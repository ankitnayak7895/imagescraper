{
 "cells": [
  {
   "cell_type": "code",
   "execution_count": 30,
   "id": "e1266835-05f7-45be-a8b7-d7ba10ff9f88",
   "metadata": {},
   "outputs": [],
   "source": [
    "import requests\n",
    "import logging\n",
    "from bs4 import BeautifulSoup\n",
    "import os\n",
    "from urllib.request import urlopen"
   ]
  },
  {
   "cell_type": "code",
   "execution_count": 31,
   "id": "783ef8db-3136-49d1-8469-1b6456a0da25",
   "metadata": {},
   "outputs": [],
   "source": [
    "# create a dir to store the image\n",
    "save_dir=\"images/\"\n",
    "if not os.path.exists(save_dir):\n",
    "    os.makedirs(save_dir)"
   ]
  },
  {
   "cell_type": "code",
   "execution_count": 32,
   "id": "06988e01-d1c6-45e8-8ed1-bbbc4e194d54",
   "metadata": {},
   "outputs": [],
   "source": [
    "query='narendra modi'\n",
    "# url=https://www.google.com/search?sca_esv=94cc259175ff0bb8&sca_upv=1&sxsrf=ACQVn09TrfZ7kIkRzv8p9uV-0pVco5ehSA:1710485161492&q={query}&tbm=isch&source=lnms&prmd=nivsmbtz&sa=X&ved=2ahUKEwjzy8bj1fWEAxX7b2wGHVc_DEcQ0pQJegQIERAB&biw=1745&bih=847&dpr=1.1"
   ]
  },
  {
   "cell_type": "code",
   "execution_count": 33,
   "id": "3babac2e-ed2f-4dd7-966a-4eb98b49ec9a",
   "metadata": {},
   "outputs": [],
   "source": [
    "response=requests.get(f\"https://www.google.com/search?sca_esv=94cc259175ff0bb8&sca_upv=1&sxsrf=ACQVn09TrfZ7kIkRzv8p9uV-0pVco5ehSA:1710485161492&q={query}&tbm=isch&source=lnms&prmd=nivsmbtz&sa=X&ved=2ahUKEwjzy8bj1fWEAxX7b2wGHVc_DEcQ0pQJegQIERAB&biw=1745&bih=847&dpr=1.1\")"
   ]
  },
  {
   "cell_type": "code",
   "execution_count": 34,
   "id": "bd1f4bad-4e14-4fb9-9601-1f9bdef865a9",
   "metadata": {},
   "outputs": [
    {
     "data": {
      "text/plain": [
       "<Response [200]>"
      ]
     },
     "execution_count": 34,
     "metadata": {},
     "output_type": "execute_result"
    }
   ],
   "source": [
    "response"
   ]
  },
  {
   "cell_type": "code",
   "execution_count": 35,
   "id": "ae8f5d75-b5ac-46b3-b90c-ddd7131e6358",
   "metadata": {},
   "outputs": [],
   "source": [
    "soup=BeautifulSoup(response.content,\"html.parser\")"
   ]
  },
  {
   "cell_type": "code",
   "execution_count": 36,
   "id": "608778f8-fe4c-48f3-8461-553fb5c428d7",
   "metadata": {},
   "outputs": [
    {
     "data": {
      "text/plain": [
       "<!DOCTYPE html PUBLIC \"-//WAPFORUM//DTD XHTML Mobile 1.0//EN\" \"http://www.wapforum.org/DTD/xhtml-mobile10.dtd\">\n",
       "<html lang=\"en-IN\" xmlns=\"http://www.w3.org/1999/xhtml\"><head><meta content=\"application/xhtml+xml; charset=utf-8\" http-equiv=\"Content-Type\"/><meta content=\"no-cache\" name=\"Cache-Control\"/><title>narendra modi - Google Search</title><style>a{text-decoration:none;color:inherit}a:hover{text-decoration:underline}a img{border:0}body{font-family:arial,sans-serif;padding:8px;margin:0 auto;max-width:700px;min-width:240px;}.FbhRzb{border-left:thin solid #dadce0;border-right:thin solid #dadce0;border-top:thin solid #dadce0;height:40px;overflow:hidden}.n692Zd{margin-bottom:10px}.cvifge{height:40px;border-spacing:0}.QvGUP{height:40px;padding:0 8px 0 8px;vertical-align:top}.O4cRJf{height:40px;width:100%;padding:0;padding-right:16px}.O1ePr{height:40px;padding:0;vertical-align:top}.kgJEQe{height:36px;width:98px;vertical-align:top;margin-top:4px}.lXLRf{vertical-align:top}.MhzMZd{border:0;vertical-align:middle;font-size:14px;height:40px;padding:0;width:100%;padding-left:16px}.xB0fq{height:40px;border:none;font-size:14px;background-color:#1a73e8;color:#fff;padding:0 16px;margin:0;vertical-align:top;cursor:pointer}.xB0fq:focus{border:1px solid #1a73e8}.M7pB2{border:thin solid #dadce0;margin:0 0 3px 0;font-size:13px;font-weight:500;height:40px}.euZec{width:100%;height:40px;text-align:center;border-spacing:0}table.euZec td{padding:0;width:25%}.QIqI7{display:inline-block;padding-top:4px;font-weight:bold;color:#4285f4}.EY24We{border-bottom:2px solid #4285f4}.CsQyDc{display:inline-block;color:#70757a}.TuS8Ad{font-size:14px}.HddGcc{padding:8px;color:#70757a}.dzp8ae{font-weight:bold;color:#3c4043}.rEM8G{color:#70757a}.bookcf{table-layout:fixed;width:100%;border-spacing:0}.InWNIe{text-align:center}.uZgmoc{border:thin solid #dadce0;color:#70757a;font-size:14px;text-align:center;table-layout:fixed;width:100%}.frGj1b{display:block;padding:12px 0 12px 0;width:100%}.BnJWBc{text-align:center;padding:6px 0 13px 0;height:35px}.e3goi{vertical-align:top;padding:0;height:180px}.GpQGbf{margin:auto;border-collapse:collapse;border-spacing:0;width:100%}</style></head><body><style>.X6ZCif{color:#202124;font-size:11px;line-height:16px;display:inline-block;padding-top:2px;overflow:hidden;padding-bottom:4px;width:100%}.TwVfHd{border-radius:16px;border:thin solid #dadce0;display:inline-block;padding:8px 8px;margin-right:8px;margin-bottom:4px}.yekiAe{background-color:#dadce0}.jjVJ4e{width:100%}.ezO2md{border:thin solid #dadce0;padding:12px 16px 12px 16px;margin-bottom:10px;font-family:arial,sans-serif}.lIMUZd{font-family:arial,sans-serif}.RntSmf{border-spacing:0}.lgD2Tc{width:100%}.SpelHe{text-align:center}.SpelHe{position:relative}.kCmkOe{position:relative}.kCmkOe{width:162px;height:140px;line-height:140px;overflow:'hidden';text-align:center}.DS1iW{text-align:center;margin:auto;vertical-align:middle;max-width:162px;max-height:140px}.AlD19d{padding-top:2px;padding-bottom:8px;}.fYyStc{word-break:break-word}.ynsChf{display:block;white-space:nowrap;overflow:hidden;text-overflow:ellipsis}.Fj3V3b{color:#1967d2;font-size:14px;line-height:20px}.FrIlee{color:#202124;font-size:11px;line-height:16px}.F9iS2e{color:#70757a;font-size:11px;line-height:16px}.WMQ2Le{color:#70757a;font-size:12px;line-height:16px}.x3G5ab{color:#202124;font-size:12px;line-height:16px}.fuLhoc{color:#1967d2;font-size:16px;line-height:20px}.epoveb{font-size:24px;line-height:28px;font-weight:400;color:#202124}.dXDvrc{color:#0d652d;font-size:14px;line-height:20px;word-wrap:break-word}.dloBPe{font-weight:bold}.YVIcad{color:#70757a}.JkVVdd{color:#ea4335}.oXZRFd{color:#ea4335}.MQHtg{color:#fbbc04}.pyMRrb{color:#1e8e3e}.EtTZid{color:#1e8e3e}.M3vVJe{color:#1967d2}.qXLe6d{display:block}.NHQNef{font-style:italic}.Cb8Z7c{white-space:pre}a.ZWRArf{text-decoration:none}a .CVA68e:hover{text-decoration:underline}</style><div class=\"n692Zd\"><div class=\"BnJWBc\"><a class=\"lXLRf\" href=\"/?sa=X&amp;sca_esv=94cc259175ff0bb8&amp;sca_upv=1&amp;biw=1745&amp;bih=847&amp;output=images&amp;ie=UTF-8&amp;tbm=isch&amp;ved=0ahUKEwiQ46e1zfaEAxUWXWwGHYVuAwcQPAgC\"><img alt=\"Google\" class=\"kgJEQe\" src=\"/images/branding/searchlogo/1x/googlelogo_desk_heirloom_color_150x55dp.gif\"/></a></div><div class=\"FbhRzb\"><form action=\"/search\"><input name=\"sca_esv\" type=\"hidden\" value=\"94cc259175ff0bb8\"/><input name=\"sca_upv\" type=\"hidden\" value=\"1\"/><input name=\"biw\" type=\"hidden\" value=\"1745\"/><input name=\"bih\" type=\"hidden\" value=\"847\"/><input name=\"ie\" type=\"hidden\" value=\"ISO-8859-1\"/><input name=\"tbm\" type=\"hidden\" value=\"isch\"/><input name=\"oq\" type=\"hidden\"/><input name=\"aqs\" type=\"hidden\"/><table class=\"cvifge\"><tr><td class=\"O4cRJf\"><input class=\"MhzMZd\" name=\"q\" type=\"text\" value=\"narendra modi\"/></td><td class=\"O1ePr\"><input class=\"xB0fq\" type=\"submit\" value=\"Search\"/></td></tr></table></form></div><div class=\"M7pB2\"><table class=\"euZec\"><tbody><tr><td><a class=\"CsQyDc\" href=\"/search?q=narendra+modi&amp;sca_esv=94cc259175ff0bb8&amp;sca_upv=1&amp;biw=1745&amp;bih=847&amp;ie=UTF-8&amp;source=lnms&amp;sa=X&amp;ved=0ahUKEwiQ46e1zfaEAxUWXWwGHYVuAwcQ_AUIBCgA\">ALL</a></td><td><a class=\"CsQyDc\" href=\"/search?q=narendra+modi&amp;sca_esv=94cc259175ff0bb8&amp;sca_upv=1&amp;biw=1745&amp;bih=847&amp;ie=UTF-8&amp;tbm=nws&amp;source=lnms&amp;sa=X&amp;ved=0ahUKEwiQ46e1zfaEAxUWXWwGHYVuAwcQ_AUIBSgB\">NEWS</a></td><td class=\"EY24We\"><span class=\"QIqI7\">IMAGES</span></td><td><a class=\"CsQyDc\" href=\"/search?q=narendra+modi&amp;sca_esv=94cc259175ff0bb8&amp;sca_upv=1&amp;biw=1745&amp;bih=847&amp;ie=UTF-8&amp;tbm=vid&amp;source=lnms&amp;sa=X&amp;ved=0ahUKEwiQ46e1zfaEAxUWXWwGHYVuAwcQ_AUIBygD\">VIDEOS</a></td></tr></tbody></table></div></div><div class=\"X6ZCif\"><a class=\"TwVfHd\" href=\"/search?sca_esv=94cc259175ff0bb8&amp;sca_upv=1&amp;biw=1745&amp;bih=847&amp;ie=UTF-8&amp;tbm=isch&amp;q=narendra+modi&amp;chips=q:narendra+modi,g_1:prime+minister&amp;sa=X&amp;ved=0ahUKEwiQ46e1zfaEAxUWXWwGHYVuAwcQ4lYICygA\">prime minister</a><a class=\"TwVfHd\" href=\"/search?sca_esv=94cc259175ff0bb8&amp;sca_upv=1&amp;biw=1745&amp;bih=847&amp;ie=UTF-8&amp;tbm=isch&amp;q=narendra+modi&amp;chips=q:narendra+modi,g_1:wallpaper&amp;sa=X&amp;ved=0ahUKEwiQ46e1zfaEAxUWXWwGHYVuAwcQ4lYIDCgB\">wallpaper</a><a class=\"TwVfHd\" href=\"/search?sca_esv=94cc259175ff0bb8&amp;sca_upv=1&amp;biw=1745&amp;bih=847&amp;ie=UTF-8&amp;tbm=isch&amp;q=narendra+modi&amp;chips=q:narendra+modi,g_1:drawing&amp;sa=X&amp;ved=0ahUKEwiQ46e1zfaEAxUWXWwGHYVuAwcQ4lYIDSgC\">drawing</a><a class=\"TwVfHd\" href=\"/search?sca_esv=94cc259175ff0bb8&amp;sca_upv=1&amp;biw=1745&amp;bih=847&amp;ie=UTF-8&amp;tbm=isch&amp;q=narendra+modi&amp;chips=q:narendra+modi,g_1:house&amp;sa=X&amp;ved=0ahUKEwiQ46e1zfaEAxUWXWwGHYVuAwcQ4lYIDigD\">house</a><a class=\"TwVfHd\" href=\"/search?sca_esv=94cc259175ff0bb8&amp;sca_upv=1&amp;biw=1745&amp;bih=847&amp;ie=UTF-8&amp;tbm=isch&amp;q=narendra+modi&amp;chips=q:narendra+modi,g_1:independence+day&amp;sa=X&amp;ved=0ahUKEwiQ46e1zfaEAxUWXWwGHYVuAwcQ4lYIDygE\">independence day</a><a class=\"TwVfHd\" href=\"/search?sca_esv=94cc259175ff0bb8&amp;sca_upv=1&amp;biw=1745&amp;bih=847&amp;ie=UTF-8&amp;tbm=isch&amp;q=narendra+modi&amp;chips=q:narendra+modi,g_1:new&amp;sa=X&amp;ved=0ahUKEwiQ46e1zfaEAxUWXWwGHYVuAwcQ4lYIECgF\">new</a><a class=\"TwVfHd\" href=\"/search?sca_esv=94cc259175ff0bb8&amp;sca_upv=1&amp;biw=1745&amp;bih=847&amp;ie=UTF-8&amp;tbm=isch&amp;q=narendra+modi&amp;chips=q:narendra+modi,g_1:painting&amp;sa=X&amp;ved=0ahUKEwiQ46e1zfaEAxUWXWwGHYVuAwcQ4lYIESgG\">painting</a><a class=\"TwVfHd\" href=\"/search?sca_esv=94cc259175ff0bb8&amp;sca_upv=1&amp;biw=1745&amp;bih=847&amp;ie=UTF-8&amp;tbm=isch&amp;q=narendra+modi&amp;chips=q:narendra+modi,g_1:birthday&amp;sa=X&amp;ved=0ahUKEwiQ46e1zfaEAxUWXWwGHYVuAwcQ4lYIEigH\">birthday</a><a class=\"TwVfHd\" href=\"/search?sca_esv=94cc259175ff0bb8&amp;sca_upv=1&amp;biw=1745&amp;bih=847&amp;ie=UTF-8&amp;tbm=isch&amp;q=narendra+modi&amp;chips=q:narendra+modi,g_1:standing&amp;sa=X&amp;ved=0ahUKEwiQ46e1zfaEAxUWXWwGHYVuAwcQ4lYIEygI\">standing</a><a class=\"TwVfHd\" href=\"/search?sca_esv=94cc259175ff0bb8&amp;sca_upv=1&amp;biw=1745&amp;bih=847&amp;ie=UTF-8&amp;tbm=isch&amp;q=narendra+modi&amp;chips=q:narendra+modi,g_1:dress&amp;sa=X&amp;ved=0ahUKEwiQ46e1zfaEAxUWXWwGHYVuAwcQ4lYIFCgJ\">dress</a></div><div><table class=\"GpQGbf\"><tr><td align=\"center\" class=\"e3goi\"><div class=\"jjVJ4e\"> <div> <div class=\"lIMUZd\"><div><table class=\"RntSmf\"><tr><td><a href=\"/url?q=https://www.facebook.com/narendramodi/&amp;sa=U&amp;ved=2ahUKEwiQ46e1zfaEAxUWXWwGHYVuAwcQqoUBegQIBBAB&amp;usg=AOvVaw0wuVOpH1l8q9vbNAlAvUKQ\"><div class=\"kCmkOe\"><img alt=\"\" class=\"DS1iW\" src=\"https://encrypted-tbn0.gstatic.com/images?q=tbn:ANd9GcQLecHm1GajbRfth5Xwby04uePGMAFFPOtiMD1TC5bAVv1pHgNayixGLDjfJwc&amp;s\"/></div></a></td></tr><tr><td><a href=\"/url?q=https://www.facebook.com/narendramodi/&amp;sa=U&amp;ved=2ahUKEwiQ46e1zfaEAxUWXWwGHYVuAwcQr4kDegQIBBAC&amp;usg=AOvVaw2THYjqIBlGEO91yJV837BC\"><div class=\"AlD19d\"> <span class=\"qXLe6d x3G5ab\"> <span class=\"fYyStc\">Narendra Modi</span> </span> <span class=\"qXLe6d F9iS2e\"> <span class=\"fYyStc\">www.facebook.com</span> </span> </div></a></td></tr></table></div></div> </div> </div></td><td align=\"center\" class=\"e3goi\"><div class=\"jjVJ4e\"> <div> <div class=\"lIMUZd\"><div><table class=\"RntSmf\"><tr><td><a href=\"/url?q=https://simple.wikipedia.org/wiki/Narendra_Modi&amp;sa=U&amp;ved=2ahUKEwiQ46e1zfaEAxUWXWwGHYVuAwcQqoUBegQIExAB&amp;usg=AOvVaw3dCGmaOA-tllAA4BDS8mUa\"><div class=\"kCmkOe\"><img alt=\"\" class=\"DS1iW\" src=\"https://encrypted-tbn0.gstatic.com/images?q=tbn:ANd9GcTw7G48FnLNCO2gGjMABD7W_0PPI2v9HQts8jXdtqEomxahKG15PaUEOEo2H3U&amp;s\"/></div></a></td></tr><tr><td><a href=\"/url?q=https://simple.wikipedia.org/wiki/Narendra_Modi&amp;sa=U&amp;ved=2ahUKEwiQ46e1zfaEAxUWXWwGHYVuAwcQr4kDegQIExAC&amp;usg=AOvVaw2Rz_90N95m6RTQTqeebEWZ\"><div class=\"AlD19d\"> <span class=\"qXLe6d x3G5ab\"> <span class=\"fYyStc\">Narendra Modi - Simple...</span> </span> <span class=\"qXLe6d F9iS2e\"> <span class=\"fYyStc\">simple.wikipedia.org</span> </span> </div></a></td></tr></table></div></div> </div> </div></td><td align=\"center\" class=\"e3goi\"><div class=\"jjVJ4e\"> <div> <div class=\"lIMUZd\"><div><table class=\"RntSmf\"><tr><td><a href=\"/url?q=https://in.linkedin.com/in/narendramodi&amp;sa=U&amp;ved=2ahUKEwiQ46e1zfaEAxUWXWwGHYVuAwcQqoUBegQIEhAB&amp;usg=AOvVaw2QqD-1jc8BIqKP1rm-Kdfl\"><div class=\"kCmkOe\"><img alt=\"\" class=\"DS1iW\" src=\"https://encrypted-tbn0.gstatic.com/images?q=tbn:ANd9GcTbsfkRqasCGFX3zIum505du6AL3EQxagFAUf98oKv9sAALvhPTKgjq4TuN4g&amp;s\"/></div></a></td></tr><tr><td><a href=\"/url?q=https://in.linkedin.com/in/narendramodi&amp;sa=U&amp;ved=2ahUKEwiQ46e1zfaEAxUWXWwGHYVuAwcQr4kDegQIEhAC&amp;usg=AOvVaw0b8-GZjXCDW6aePiMxF1r3\"><div class=\"AlD19d\"> <span class=\"qXLe6d x3G5ab\"> <span class=\"fYyStc\">Narendra Modi - Government...</span> </span> <span class=\"qXLe6d F9iS2e\"> <span class=\"fYyStc\">in.linkedin.com</span> </span> </div></a></td></tr></table></div></div> </div> </div></td><td align=\"center\" class=\"e3goi\"><div class=\"jjVJ4e\"> <div> <div class=\"lIMUZd\"><div><table class=\"RntSmf\"><tr><td><a href=\"/url?q=https://indianexpress.com/about/narendra-modi/&amp;sa=U&amp;ved=2ahUKEwiQ46e1zfaEAxUWXWwGHYVuAwcQqoUBegQIDRAB&amp;usg=AOvVaw2C8QsDyaXJUahZMqKIreGM\"><div class=\"kCmkOe\"><img alt=\"\" class=\"DS1iW\" src=\"https://encrypted-tbn0.gstatic.com/images?q=tbn:ANd9GcRya6-sfVYRN5OXXFh9_kusvohcI3hdQDUtogbqHxuzTK6q-UBCWUkM4fMPLc8&amp;s\"/></div></a></td></tr><tr><td><a href=\"/url?q=https://indianexpress.com/about/narendra-modi/&amp;sa=U&amp;ved=2ahUKEwiQ46e1zfaEAxUWXWwGHYVuAwcQr4kDegQIDRAC&amp;usg=AOvVaw2_wlPZ4vUNoDRSP-87bvSV\"><div class=\"AlD19d\"> <span class=\"qXLe6d x3G5ab\"> <span class=\"fYyStc\">Latest News on Narendra...</span> </span> <span class=\"qXLe6d F9iS2e\"> <span class=\"fYyStc\">indianexpress.com</span> </span> </div></a></td></tr></table></div></div> </div> </div></td></tr><tr><td align=\"center\" class=\"e3goi\"><div class=\"jjVJ4e\"> <div> <div class=\"lIMUZd\"><div><table class=\"RntSmf\"><tr><td><a href=\"/url?q=https://en.wikipedia.org/wiki/Narendra_Modi&amp;sa=U&amp;ved=2ahUKEwiQ46e1zfaEAxUWXWwGHYVuAwcQqoUBegQIEBAB&amp;usg=AOvVaw2lFlZP2yzEUu2EH8wf7KdN\"><div class=\"kCmkOe\"><img alt=\"\" class=\"DS1iW\" src=\"https://encrypted-tbn0.gstatic.com/images?q=tbn:ANd9GcSBj7pjo-j4GdIgDSXG22ux8ecftob4Z-n9h1jblfBi54uL_pKE3fhzUdw52Q&amp;s\"/></div></a></td></tr><tr><td><a href=\"/url?q=https://en.wikipedia.org/wiki/Narendra_Modi&amp;sa=U&amp;ved=2ahUKEwiQ46e1zfaEAxUWXWwGHYVuAwcQr4kDegQIEBAC&amp;usg=AOvVaw0hf8Nicp1DEpe2NxCILQJ2\"><div class=\"AlD19d\"> <span class=\"qXLe6d x3G5ab\"> <span class=\"fYyStc\">Narendra Modi - Wikipedia</span> </span> <span class=\"qXLe6d F9iS2e\"> <span class=\"fYyStc\">en.wikipedia.org</span> </span> </div></a></td></tr></table></div></div> </div> </div></td><td align=\"center\" class=\"e3goi\"><div class=\"jjVJ4e\"> <div> <div class=\"lIMUZd\"><div><table class=\"RntSmf\"><tr><td><a href=\"/url?q=https://www.india.gov.in/my-government/indian-parliament/narendra-modi&amp;sa=U&amp;ved=2ahUKEwiQ46e1zfaEAxUWXWwGHYVuAwcQqoUBegQIERAB&amp;usg=AOvVaw3NX1IC4spFrzdbCjW3ZZn4\"><div class=\"kCmkOe\"><img alt=\"\" class=\"DS1iW\" src=\"https://encrypted-tbn0.gstatic.com/images?q=tbn:ANd9GcSDRQcRaN4aGU3AOvVF5oXHWsylRc8gkHPAU_uLH40oBeDXf4yApmwK0XnOcw&amp;s\"/></div></a></td></tr><tr><td><a href=\"/url?q=https://www.india.gov.in/my-government/indian-parliament/narendra-modi&amp;sa=U&amp;ved=2ahUKEwiQ46e1zfaEAxUWXWwGHYVuAwcQr4kDegQIERAC&amp;usg=AOvVaw2Fjo5LV1scmjgxR85KIyKl\"><div class=\"AlD19d\"> <span class=\"qXLe6d x3G5ab\"> <span class=\"fYyStc\">Narendra Modi| National...</span> </span> <span class=\"qXLe6d F9iS2e\"> <span class=\"fYyStc\">www.india.gov.in</span> </span> </div></a></td></tr></table></div></div> </div> </div></td><td align=\"center\" class=\"e3goi\"><div class=\"jjVJ4e\"> <div> <div class=\"lIMUZd\"><div><table class=\"RntSmf\"><tr><td><a href=\"/url?q=https://www.flipkart.com/narendra-modi-large-print-36x24-inches-photographic-paper/p/itmb2dc91e49ecce&amp;sa=U&amp;ved=2ahUKEwiQ46e1zfaEAxUWXWwGHYVuAwcQqoUBegQIChAB&amp;usg=AOvVaw08ZeRYqgPjlEGp1O_R5t-s\"><div class=\"kCmkOe\"><img alt=\"\" class=\"DS1iW\" src=\"https://encrypted-tbn0.gstatic.com/images?q=tbn:ANd9GcRWQ9Xsd6D-ceslsP1jQ3D1YJjAumX1jl7zQo5faipALbxyB5OCtKo-hMgxYw&amp;s\"/></div></a></td></tr><tr><td><a href=\"/url?q=https://www.flipkart.com/narendra-modi-large-print-36x24-inches-photographic-paper/p/itmb2dc91e49ecce&amp;sa=U&amp;ved=2ahUKEwiQ46e1zfaEAxUWXWwGHYVuAwcQr4kDegQIChAC&amp;usg=AOvVaw3Bq6iRZD1yfqhkHveTZFls\"><div class=\"AlD19d\"> <span class=\"qXLe6d x3G5ab\"> <span class=\"fYyStc\">Narendra Modi ON LARGE...</span> </span> <span class=\"qXLe6d F9iS2e\"> <span class=\"fYyStc\">www.flipkart.com</span> </span> </div></a></td></tr></table></div></div> </div> </div></td><td align=\"center\" class=\"e3goi\"><div class=\"jjVJ4e\"> <div> <div class=\"lIMUZd\"><div><table class=\"RntSmf\"><tr><td><a href=\"/url?q=https://www.pmindia.gov.in/en/pms-profile/&amp;sa=U&amp;ved=2ahUKEwiQ46e1zfaEAxUWXWwGHYVuAwcQqoUBegQIDxAB&amp;usg=AOvVaw1QRlkf7Zm42G5RUkRW6cm3\"><div class=\"kCmkOe\"><img alt=\"\" class=\"DS1iW\" src=\"https://encrypted-tbn0.gstatic.com/images?q=tbn:ANd9GcSae8BSQxliATNPGCwQrQJKhlqjVZbFrP2D6yEfMMqyPPi7RvL0p2awsH_C7ck&amp;s\"/></div></a></td></tr><tr><td><a href=\"/url?q=https://www.pmindia.gov.in/en/pms-profile/&amp;sa=U&amp;ved=2ahUKEwiQ46e1zfaEAxUWXWwGHYVuAwcQr4kDegQIDxAC&amp;usg=AOvVaw15QApBdayTmQlozufKfCRy\"><div class=\"AlD19d\"> <span class=\"qXLe6d x3G5ab\"> <span class=\"fYyStc\">Know the PM | Prime...</span> </span> <span class=\"qXLe6d F9iS2e\"> <span class=\"fYyStc\">www.pmindia.gov.in</span> </span> </div></a></td></tr></table></div></div> </div> </div></td></tr><tr><td align=\"center\" class=\"e3goi\"><div class=\"jjVJ4e\"> <div> <div class=\"lIMUZd\"><div><table class=\"RntSmf\"><tr><td><a href=\"/url?q=https://www.news18.com/topics/narendra-modi/&amp;sa=U&amp;ved=2ahUKEwiQ46e1zfaEAxUWXWwGHYVuAwcQqoUBegQICRAB&amp;usg=AOvVaw2-9ZIyM6fxo5K7HqrIav5C\"><div class=\"kCmkOe\"><img alt=\"\" class=\"DS1iW\" src=\"https://encrypted-tbn0.gstatic.com/images?q=tbn:ANd9GcR9Kr7EwWPD97YhdtZXbTvOrU06q9YdKb0bCMxJhWB3c8Jr5VwMSNzqMDX4q-w&amp;s\"/></div></a></td></tr><tr><td><a href=\"/url?q=https://www.news18.com/topics/narendra-modi/&amp;sa=U&amp;ved=2ahUKEwiQ46e1zfaEAxUWXWwGHYVuAwcQr4kDegQICRAC&amp;usg=AOvVaw38j95ryKvhg9Ue3SrtSTCY\"><div class=\"AlD19d\"> <span class=\"qXLe6d x3G5ab\"> <span class=\"fYyStc\">Narendra Modi: Biography,...</span> </span> <span class=\"qXLe6d F9iS2e\"> <span class=\"fYyStc\">www.news18.com</span> </span> </div></a></td></tr></table></div></div> </div> </div></td><td align=\"center\" class=\"e3goi\"><div class=\"jjVJ4e\"> <div> <div class=\"lIMUZd\"><div><table class=\"RntSmf\"><tr><td><a href=\"/url?q=https://www.livemint.com/news/india/from-shah-rukh-khan-to-salman-khan-heres-how-bollywood-stars-wish-pm-narendra-modi-on-his-73rd-birthday-11694946549678.html&amp;sa=U&amp;ved=2ahUKEwiQ46e1zfaEAxUWXWwGHYVuAwcQqoUBegQIDBAB&amp;usg=AOvVaw2dX4a1XqAcBe5wn5kL_NKz\"><div class=\"kCmkOe\"><img alt=\"\" class=\"DS1iW\" src=\"https://encrypted-tbn0.gstatic.com/images?q=tbn:ANd9GcSWCE1E3J56YJtcDA8X4qFtwbfOOlXzfGUZOS18kUkF8EHfl702fEVvEE-29BU&amp;s\"/></div></a></td></tr><tr><td><a href=\"/url?q=https://www.livemint.com/news/india/from-shah-rukh-khan-to-salman-khan-heres-how-bollywood-stars-wish-pm-narendra-modi-on-his-73rd-birthday-11694946549678.html&amp;sa=U&amp;ved=2ahUKEwiQ46e1zfaEAxUWXWwGHYVuAwcQr4kDegQIDBAC&amp;usg=AOvVaw3jEoXamzRuIeurVlDkezXt\"><div class=\"AlD19d\"> <span class=\"qXLe6d x3G5ab\"> <span class=\"fYyStc\">From Shah Rukh Khan to...</span> </span> <span class=\"qXLe6d F9iS2e\"> <span class=\"fYyStc\">www.livemint.com</span> </span> </div></a></td></tr></table></div></div> </div> </div></td><td align=\"center\" class=\"e3goi\"><div class=\"jjVJ4e\"> <div> <div class=\"lIMUZd\"><div><table class=\"RntSmf\"><tr><td><a href=\"/url?q=https://www.ndtv.com/india-news/10-years-work-just-a-trailer-have-long-way-to-go-pm-narendra-modi-5222932&amp;sa=U&amp;ved=2ahUKEwiQ46e1zfaEAxUWXWwGHYVuAwcQqoUBegQICxAB&amp;usg=AOvVaw0Uur5YJRhWsNpZI-PYxbJN\"><div class=\"kCmkOe\"><img alt=\"\" class=\"DS1iW\" src=\"https://encrypted-tbn0.gstatic.com/images?q=tbn:ANd9GcQBsObwwEREiWar7kpz-gKiJ5J8-_M8XUlVDxgQ-OL0r6MQuxONQ3M5BZGLuzo&amp;s\"/></div></a></td></tr><tr><td><a href=\"/url?q=https://www.ndtv.com/india-news/10-years-work-just-a-trailer-have-long-way-to-go-pm-narendra-modi-5222932&amp;sa=U&amp;ved=2ahUKEwiQ46e1zfaEAxUWXWwGHYVuAwcQr4kDegQICxAC&amp;usg=AOvVaw21FdFZyTVvytJMrIxOa5Yv\"><div class=\"AlD19d\"> <span class=\"qXLe6d x3G5ab\"> <span class=\"fYyStc\">10 Years' Work Just A...</span> </span> <span class=\"qXLe6d F9iS2e\"> <span class=\"fYyStc\">www.ndtv.com</span> </span> </div></a></td></tr></table></div></div> </div> </div></td><td align=\"center\" class=\"e3goi\"><div class=\"jjVJ4e\"> <div> <div class=\"lIMUZd\"><div><table class=\"RntSmf\"><tr><td><a href=\"/url?q=https://www.livemint.com/news/pm-modi-to-deliver-10th-consecutive-independence-day-address-what-to-expect-11692021636334.html&amp;sa=U&amp;ved=2ahUKEwiQ46e1zfaEAxUWXWwGHYVuAwcQqoUBegQIDhAB&amp;usg=AOvVaw2mNCH44VsuJcWlj1j7Tmc0\"><div class=\"kCmkOe\"><img alt=\"\" class=\"DS1iW\" src=\"https://encrypted-tbn0.gstatic.com/images?q=tbn:ANd9GcRuSom3tU-G3wX6VYdnz51qxFTHuyY8k2c4L9tERQ3PJLHIa1YS_O3FTAj87Q&amp;s\"/></div></a></td></tr><tr><td><a href=\"/url?q=https://www.livemint.com/news/pm-modi-to-deliver-10th-consecutive-independence-day-address-what-to-expect-11692021636334.html&amp;sa=U&amp;ved=2ahUKEwiQ46e1zfaEAxUWXWwGHYVuAwcQr4kDegQIDhAC&amp;usg=AOvVaw0RuMH671Pjh9nnW_UOcpYW\"><div class=\"AlD19d\"> <span class=\"qXLe6d x3G5ab\"> <span class=\"fYyStc\">PM Modi to deliver 10th...</span> </span> <span class=\"qXLe6d F9iS2e\"> <span class=\"fYyStc\">www.livemint.com</span> </span> </div></a></td></tr></table></div></div> </div> </div></td></tr><tr><td align=\"center\" class=\"e3goi\"><div class=\"jjVJ4e\"> <div> <div class=\"lIMUZd\"><div><table class=\"RntSmf\"><tr><td><a href=\"/url?q=https://www.hindustantimes.com/india-news/pm-modi-highlights-india-s-technological-transformation-and-digital-inclusion-at-g20-meeting-101692433802859.html&amp;sa=U&amp;ved=2ahUKEwiQ46e1zfaEAxUWXWwGHYVuAwcQqoUBegQIAxAB&amp;usg=AOvVaw2P2Q2Q4DS_C51RzeMFh9TK\"><div class=\"kCmkOe\"><img alt=\"\" class=\"DS1iW\" src=\"https://encrypted-tbn0.gstatic.com/images?q=tbn:ANd9GcRYVXegBRZ-i3mOEz08-1SAAEXxEGWMqXH73yhKEKopNb1jh-eF91XcAbZPyA&amp;s\"/></div></a></td></tr><tr><td><a href=\"/url?q=https://www.hindustantimes.com/india-news/pm-modi-highlights-india-s-technological-transformation-and-digital-inclusion-at-g20-meeting-101692433802859.html&amp;sa=U&amp;ved=2ahUKEwiQ46e1zfaEAxUWXWwGHYVuAwcQr4kDegQIAxAC&amp;usg=AOvVaw3TGmphCIPaEpzucX6Qbt-5\"><div class=\"AlD19d\"> <span class=\"qXLe6d x3G5ab\"> <span class=\"fYyStc\">Beyond imagination': PM...</span> </span> <span class=\"qXLe6d F9iS2e\"> <span class=\"fYyStc\">www.hindustantimes.com</span> </span> </div></a></td></tr></table></div></div> </div> </div></td><td align=\"center\" class=\"e3goi\"><div class=\"jjVJ4e\"> <div> <div class=\"lIMUZd\"><div><table class=\"RntSmf\"><tr><td><a href=\"/url?q=https://www.narendramodi.in/national-statement-by-prime-minister-narendra-modi-at-the-summit-for-democracy-558844&amp;sa=U&amp;ved=2ahUKEwiQ46e1zfaEAxUWXWwGHYVuAwcQqoUBegQIBxAB&amp;usg=AOvVaw0Yh83w16zfiDZm4dAGaFDA\"><div class=\"kCmkOe\"><img alt=\"\" class=\"DS1iW\" src=\"https://encrypted-tbn0.gstatic.com/images?q=tbn:ANd9GcTvsVxGdzOxx9q0xe3xuHV-Z80qgnli5wRp1hjrdxueqHjyjs0a4PLp5dB0__I&amp;s\"/></div></a></td></tr><tr><td><a href=\"/url?q=https://www.narendramodi.in/national-statement-by-prime-minister-narendra-modi-at-the-summit-for-democracy-558844&amp;sa=U&amp;ved=2ahUKEwiQ46e1zfaEAxUWXWwGHYVuAwcQr4kDegQIBxAC&amp;usg=AOvVaw1FzkW2pdnSwidIGB92fRa9\"><div class=\"AlD19d\"> <span class=\"qXLe6d x3G5ab\"> <span class=\"fYyStc\">National Statement by Prime...</span> </span> <span class=\"qXLe6d F9iS2e\"> <span class=\"fYyStc\">www.narendramodi.in</span> </span> </div></a></td></tr></table></div></div> </div> </div></td><td align=\"center\" class=\"e3goi\"><div class=\"jjVJ4e\"> <div> <div class=\"lIMUZd\"><div><table class=\"RntSmf\"><tr><td><a href=\"/url?q=https://www.theguardian.com/world/2023/aug/10/manipur-conflict-narendra-modi-opposition-india&amp;sa=U&amp;ved=2ahUKEwiQ46e1zfaEAxUWXWwGHYVuAwcQqoUBegQICBAB&amp;usg=AOvVaw0L1m7qgFlII62wfgu_0cM5\"><div class=\"kCmkOe\"><img alt=\"\" class=\"DS1iW\" src=\"https://encrypted-tbn0.gstatic.com/images?q=tbn:ANd9GcTnMADzSQVBcLVD6aZR5gg8MhNeuD8lDEGq70utWgoF4Ma5l7LVGksYZpYc9AQ&amp;s\"/></div></a></td></tr><tr><td><a href=\"/url?q=https://www.theguardian.com/world/2023/aug/10/manipur-conflict-narendra-modi-opposition-india&amp;sa=U&amp;ved=2ahUKEwiQ46e1zfaEAxUWXWwGHYVuAwcQr4kDegQICBAC&amp;usg=AOvVaw3C5TWd1Vrq5E13qnOM-Ydx\"><div class=\"AlD19d\"> <span class=\"qXLe6d x3G5ab\"> <span class=\"fYyStc\">Manipur conflict drags...</span> </span> <span class=\"qXLe6d F9iS2e\"> <span class=\"fYyStc\">www.theguardian.com</span> </span> </div></a></td></tr></table></div></div> </div> </div></td><td align=\"center\" class=\"e3goi\"><div class=\"jjVJ4e\"> <div> <div class=\"lIMUZd\"><div><table class=\"RntSmf\"><tr><td><a href=\"/url?q=https://www.indiatoday.in/magazine/cover-story/story/20240108-exclusive-interview-with-pm-modi-i-take-all-my-decisions-through-the-prism-of-nation-first-2482032-2023-12-30&amp;sa=U&amp;ved=2ahUKEwiQ46e1zfaEAxUWXWwGHYVuAwcQqoUBegQIBhAB&amp;usg=AOvVaw1B3e9Sqx3IvbjuREXNRdlZ\"><div class=\"kCmkOe\"><img alt=\"\" class=\"DS1iW\" src=\"https://encrypted-tbn0.gstatic.com/images?q=tbn:ANd9GcSXU8fcW5tz1Kqjk9_UhEnhmT1tuTTJ054-iOetabn9z3Dc8Ki6LBy4hYWpdA&amp;s\"/></div></a></td></tr><tr><td><a href=\"/url?q=https://www.indiatoday.in/magazine/cover-story/story/20240108-exclusive-interview-with-pm-modi-i-take-all-my-decisions-through-the-prism-of-nation-first-2482032-2023-12-30&amp;sa=U&amp;ved=2ahUKEwiQ46e1zfaEAxUWXWwGHYVuAwcQr4kDegQIBhAC&amp;usg=AOvVaw0ZQfp0XxJxWQkNxGEllNyC\"><div class=\"AlD19d\"> <span class=\"qXLe6d x3G5ab\"> <span class=\"fYyStc\">Exclusive interview with PM...</span> </span> <span class=\"qXLe6d F9iS2e\"> <span class=\"fYyStc\">www.indiatoday.in</span> </span> </div></a></td></tr></table></div></div> </div> </div></td></tr><tr><td align=\"center\" class=\"e3goi\"><div class=\"jjVJ4e\"> <div> <div class=\"lIMUZd\"><div><table class=\"RntSmf\"><tr><td><a href=\"/url?q=https://www.mid-day.com/news/india-news/article/lok-sabha-elections-2024-pm-modi-to-attend-nda-meeting-in-andhra-pradesh-on-mar-17-says-bjp-leader-vinod-tawde-23340019&amp;sa=U&amp;ved=2ahUKEwiQ46e1zfaEAxUWXWwGHYVuAwcQqoUBegQIAhAB&amp;usg=AOvVaw1Mn5YzkTovaqvPMXeKnSDD\"><div class=\"kCmkOe\"><img alt=\"\" class=\"DS1iW\" src=\"https://encrypted-tbn0.gstatic.com/images?q=tbn:ANd9GcTJ9SaV_Fwz49UyzZDH1vWx6tXY-1k0qRporXAeohvEWjvHi4_JzErtgyzv8Q&amp;s\"/></div></a></td></tr><tr><td><a href=\"/url?q=https://www.mid-day.com/news/india-news/article/lok-sabha-elections-2024-pm-modi-to-attend-nda-meeting-in-andhra-pradesh-on-mar-17-says-bjp-leader-vinod-tawde-23340019&amp;sa=U&amp;ved=2ahUKEwiQ46e1zfaEAxUWXWwGHYVuAwcQr4kDegQIAhAC&amp;usg=AOvVaw23kgbgxnw46h8dv3YnKDr0\"><div class=\"AlD19d\"> <span class=\"qXLe6d x3G5ab\"> <span class=\"fYyStc\">Lok Sabha elections 2024:...</span> </span> <span class=\"qXLe6d F9iS2e\"> <span class=\"fYyStc\">www.mid-day.com</span> </span> </div></a></td></tr></table></div></div> </div> </div></td><td align=\"center\" class=\"e3goi\"><div class=\"jjVJ4e\"> <div> <div class=\"lIMUZd\"><div><table class=\"RntSmf\"><tr><td><a href=\"/url?q=https://timesofindia.indiatimes.com/india/20-years-in-public-life-key-things-to-know-about-pm-modis-tenure/articleshow/86283806.cms&amp;sa=U&amp;ved=2ahUKEwiQ46e1zfaEAxUWXWwGHYVuAwcQqoUBegQIBRAB&amp;usg=AOvVaw3nq3EGSBifJ6PBbRwiZmaP\"><div class=\"kCmkOe\"><img alt=\"\" class=\"DS1iW\" src=\"https://encrypted-tbn0.gstatic.com/images?q=tbn:ANd9GcQsocfKOGn_7NelZU7fcuZstPGCK9XTHMHqfCj8RBKh2Hljc5MAWkZF5bu0Fbc&amp;s\"/></div></a></td></tr><tr><td><a href=\"/url?q=https://timesofindia.indiatimes.com/india/20-years-in-public-life-key-things-to-know-about-pm-modis-tenure/articleshow/86283806.cms&amp;sa=U&amp;ved=2ahUKEwiQ46e1zfaEAxUWXWwGHYVuAwcQr4kDegQIBRAC&amp;usg=AOvVaw3-mMe_gJfb-KUKxe2PjCAk\"><div class=\"AlD19d\"> <span class=\"qXLe6d x3G5ab\"> <span class=\"fYyStc\">PM Modi: Key things to know...</span> </span> <span class=\"qXLe6d F9iS2e\"> <span class=\"fYyStc\">timesofindia.indiatimes.com...</span> </span> </div></a></td></tr></table></div></div> </div> </div></td><td align=\"center\" class=\"e3goi\"><div class=\"jjVJ4e\"> <div> <div class=\"lIMUZd\"><div><table class=\"RntSmf\"><tr><td><a href=\"/url?q=https://spmrf.org/modi-an-ideational-portrait/&amp;sa=U&amp;ved=2ahUKEwiQ46e1zfaEAxUWXWwGHYVuAwcQqoUBegQIARAB&amp;usg=AOvVaw0DALC07oBvpFdgbb_-lJ-q\"><div class=\"kCmkOe\"><img alt=\"\" class=\"DS1iW\" src=\"https://encrypted-tbn0.gstatic.com/images?q=tbn:ANd9GcQHN0NC_Jve6ATpGeKyvc1VFiiOh3DUlTD-6WiaiQp6tsyqVj2KzgzEtelyGA&amp;s\"/></div></a></td></tr><tr><td><a href=\"/url?q=https://spmrf.org/modi-an-ideational-portrait/&amp;sa=U&amp;ved=2ahUKEwiQ46e1zfaEAxUWXWwGHYVuAwcQr4kDegQIARAC&amp;usg=AOvVaw1487iSzwTUJYYsJbba4wPC\"><div class=\"AlD19d\"> <span class=\"qXLe6d x3G5ab\"> <span class=\"fYyStc\">Modi – an ideational...</span> </span> <span class=\"qXLe6d F9iS2e\"> <span class=\"fYyStc\">spmrf.org</span> </span> </div></a></td></tr></table></div></div> </div> </div></td><td align=\"center\" class=\"e3goi\"><div class=\"jjVJ4e\"> <div> <div class=\"lIMUZd\"><div><table class=\"RntSmf\"><tr><td><a href=\"/url?q=https://www.news18.com/politics/independence-day-2023-5-political-messages-in-narendra-modi-red-fort-speech-8537039.html&amp;sa=U&amp;ved=2ahUKEwiQ46e1zfaEAxUWXWwGHYVuAwcQqoUBegQIABAB&amp;usg=AOvVaw3e2FduFquztl9rzWYcAAsS\"><div class=\"kCmkOe\"><img alt=\"\" class=\"DS1iW\" src=\"https://encrypted-tbn0.gstatic.com/images?q=tbn:ANd9GcSmSE4s5vhVWJDcxEc-GXQMOcZbedcGIs-LtGeQrGlt7Q1J8emgMa6u9EoKpA&amp;s\"/></div></a></td></tr><tr><td><a href=\"/url?q=https://www.news18.com/politics/independence-day-2023-5-political-messages-in-narendra-modi-red-fort-speech-8537039.html&amp;sa=U&amp;ved=2ahUKEwiQ46e1zfaEAxUWXWwGHYVuAwcQr4kDegQIABAC&amp;usg=AOvVaw3VfqOaf6T_epa44seEiO57\"><div class=\"AlD19d\"> <span class=\"qXLe6d x3G5ab\"> <span class=\"fYyStc\">5 Messages, 3 'Evils', 1...</span> </span> <span class=\"qXLe6d F9iS2e\"> <span class=\"fYyStc\">www.news18.com</span> </span> </div></a></td></tr></table></div></div> </div> </div></td></tr></table></div><table class=\"uZgmoc\"><tbody><td><a class=\"frGj1b\" href=\"/search?q=narendra+modi&amp;sca_esv=94cc259175ff0bb8&amp;sca_upv=1&amp;biw=1745&amp;bih=847&amp;ie=UTF-8&amp;tbm=isch&amp;ei=HGz0ZZDlLpa6seMPhd2NOA&amp;start=20&amp;sa=N\">Next &gt;</a></td></tbody></table><br/><div class=\"TuS8Ad\" data-ved=\"0ahUKEwiQ46e1zfaEAxUWXWwGHYVuAwcQpyoIUg\"><style>.VYM29{font-weight:bold}</style><div align=\"center\" class=\"HddGcc\"><span class=\"VYM29\">Bhubaneswar, Odisha</span><span> - </span><span>From your IP address</span><span> - </span><a href=\"/url?q=https://support.google.com/websearch%3Fp%3Dws_settings_location%26hl%3Den-IN&amp;opi=89978449&amp;sa=U&amp;ved=0ahUKEwiQ46e1zfaEAxUWXWwGHYVuAwcQty4IUw&amp;usg=AOvVaw0d0UQu8rVEUQTFSupoGxcs\">Learn more</a></div><div align=\"center\"><a class=\"rEM8G\" href=\"/url?q=https://accounts.google.com/ServiceLogin%3Fcontinue%3Dhttps://www.google.com/search%253Fsca_esv%253D94cc259175ff0bb8%2526sca_upv%253D1%2526sxsrf%253DACQVn09TrfZ7kIkRzv8p9uV-0pVco5ehSA:1710485161492%2526q%253Dnarendra%252Bmodi%2526tbm%253Disch%2526source%253Dlnms%2526prmd%253Dnivsmbtz%2526sa%253DX%2526ved%253D2ahUKEwjzy8bj1fWEAxX7b2wGHVc_DEcQ0pQJegQIERAB%2526biw%253D1745%2526bih%253D847%2526dpr%253D1.1%26hl%3Den&amp;opi=89978449&amp;sa=U&amp;ved=0ahUKEwiQ46e1zfaEAxUWXWwGHYVuAwcQxs8CCFQ&amp;usg=AOvVaw3eq_lQDw44CNXWgzJo3urY\">Sign in</a></div><div><table class=\"bookcf\"><tbody class=\"InWNIe\"><tr><td><a class=\"rEM8G\" href=\"https://www.google.com/preferences?hl=en&amp;sa=X&amp;ved=0ahUKEwiQ46e1zfaEAxUWXWwGHYVuAwcQv5YECFU\">Settings</a></td><td><a class=\"rEM8G\" href=\"https://www.google.com/intl/en_in/policies/privacy/\">Privacy</a></td><td><a class=\"rEM8G\" href=\"https://www.google.com/intl/en_in/policies/terms/\">Terms</a></td></tr></tbody></table></div></div><div> </div></body></html>"
      ]
     },
     "execution_count": 36,
     "metadata": {},
     "output_type": "execute_result"
    }
   ],
   "source": [
    "soup"
   ]
  },
  {
   "cell_type": "code",
   "execution_count": 37,
   "id": "90e4b656-a811-4da7-843b-0719305e4f38",
   "metadata": {},
   "outputs": [],
   "source": [
    "image_tags=soup.find_all(\"img\")"
   ]
  },
  {
   "cell_type": "code",
   "execution_count": 38,
   "id": "c1e5f064-5a57-406f-9e86-09661b36def1",
   "metadata": {},
   "outputs": [
    {
     "data": {
      "text/plain": [
       "[<img alt=\"Google\" class=\"kgJEQe\" src=\"/images/branding/searchlogo/1x/googlelogo_desk_heirloom_color_150x55dp.gif\"/>,\n",
       " <img alt=\"\" class=\"DS1iW\" src=\"https://encrypted-tbn0.gstatic.com/images?q=tbn:ANd9GcQLecHm1GajbRfth5Xwby04uePGMAFFPOtiMD1TC5bAVv1pHgNayixGLDjfJwc&amp;s\"/>,\n",
       " <img alt=\"\" class=\"DS1iW\" src=\"https://encrypted-tbn0.gstatic.com/images?q=tbn:ANd9GcTw7G48FnLNCO2gGjMABD7W_0PPI2v9HQts8jXdtqEomxahKG15PaUEOEo2H3U&amp;s\"/>,\n",
       " <img alt=\"\" class=\"DS1iW\" src=\"https://encrypted-tbn0.gstatic.com/images?q=tbn:ANd9GcTbsfkRqasCGFX3zIum505du6AL3EQxagFAUf98oKv9sAALvhPTKgjq4TuN4g&amp;s\"/>,\n",
       " <img alt=\"\" class=\"DS1iW\" src=\"https://encrypted-tbn0.gstatic.com/images?q=tbn:ANd9GcRya6-sfVYRN5OXXFh9_kusvohcI3hdQDUtogbqHxuzTK6q-UBCWUkM4fMPLc8&amp;s\"/>,\n",
       " <img alt=\"\" class=\"DS1iW\" src=\"https://encrypted-tbn0.gstatic.com/images?q=tbn:ANd9GcSBj7pjo-j4GdIgDSXG22ux8ecftob4Z-n9h1jblfBi54uL_pKE3fhzUdw52Q&amp;s\"/>,\n",
       " <img alt=\"\" class=\"DS1iW\" src=\"https://encrypted-tbn0.gstatic.com/images?q=tbn:ANd9GcSDRQcRaN4aGU3AOvVF5oXHWsylRc8gkHPAU_uLH40oBeDXf4yApmwK0XnOcw&amp;s\"/>,\n",
       " <img alt=\"\" class=\"DS1iW\" src=\"https://encrypted-tbn0.gstatic.com/images?q=tbn:ANd9GcRWQ9Xsd6D-ceslsP1jQ3D1YJjAumX1jl7zQo5faipALbxyB5OCtKo-hMgxYw&amp;s\"/>,\n",
       " <img alt=\"\" class=\"DS1iW\" src=\"https://encrypted-tbn0.gstatic.com/images?q=tbn:ANd9GcSae8BSQxliATNPGCwQrQJKhlqjVZbFrP2D6yEfMMqyPPi7RvL0p2awsH_C7ck&amp;s\"/>,\n",
       " <img alt=\"\" class=\"DS1iW\" src=\"https://encrypted-tbn0.gstatic.com/images?q=tbn:ANd9GcR9Kr7EwWPD97YhdtZXbTvOrU06q9YdKb0bCMxJhWB3c8Jr5VwMSNzqMDX4q-w&amp;s\"/>,\n",
       " <img alt=\"\" class=\"DS1iW\" src=\"https://encrypted-tbn0.gstatic.com/images?q=tbn:ANd9GcSWCE1E3J56YJtcDA8X4qFtwbfOOlXzfGUZOS18kUkF8EHfl702fEVvEE-29BU&amp;s\"/>,\n",
       " <img alt=\"\" class=\"DS1iW\" src=\"https://encrypted-tbn0.gstatic.com/images?q=tbn:ANd9GcQBsObwwEREiWar7kpz-gKiJ5J8-_M8XUlVDxgQ-OL0r6MQuxONQ3M5BZGLuzo&amp;s\"/>,\n",
       " <img alt=\"\" class=\"DS1iW\" src=\"https://encrypted-tbn0.gstatic.com/images?q=tbn:ANd9GcRuSom3tU-G3wX6VYdnz51qxFTHuyY8k2c4L9tERQ3PJLHIa1YS_O3FTAj87Q&amp;s\"/>,\n",
       " <img alt=\"\" class=\"DS1iW\" src=\"https://encrypted-tbn0.gstatic.com/images?q=tbn:ANd9GcRYVXegBRZ-i3mOEz08-1SAAEXxEGWMqXH73yhKEKopNb1jh-eF91XcAbZPyA&amp;s\"/>,\n",
       " <img alt=\"\" class=\"DS1iW\" src=\"https://encrypted-tbn0.gstatic.com/images?q=tbn:ANd9GcTvsVxGdzOxx9q0xe3xuHV-Z80qgnli5wRp1hjrdxueqHjyjs0a4PLp5dB0__I&amp;s\"/>,\n",
       " <img alt=\"\" class=\"DS1iW\" src=\"https://encrypted-tbn0.gstatic.com/images?q=tbn:ANd9GcTnMADzSQVBcLVD6aZR5gg8MhNeuD8lDEGq70utWgoF4Ma5l7LVGksYZpYc9AQ&amp;s\"/>,\n",
       " <img alt=\"\" class=\"DS1iW\" src=\"https://encrypted-tbn0.gstatic.com/images?q=tbn:ANd9GcSXU8fcW5tz1Kqjk9_UhEnhmT1tuTTJ054-iOetabn9z3Dc8Ki6LBy4hYWpdA&amp;s\"/>,\n",
       " <img alt=\"\" class=\"DS1iW\" src=\"https://encrypted-tbn0.gstatic.com/images?q=tbn:ANd9GcTJ9SaV_Fwz49UyzZDH1vWx6tXY-1k0qRporXAeohvEWjvHi4_JzErtgyzv8Q&amp;s\"/>,\n",
       " <img alt=\"\" class=\"DS1iW\" src=\"https://encrypted-tbn0.gstatic.com/images?q=tbn:ANd9GcQsocfKOGn_7NelZU7fcuZstPGCK9XTHMHqfCj8RBKh2Hljc5MAWkZF5bu0Fbc&amp;s\"/>,\n",
       " <img alt=\"\" class=\"DS1iW\" src=\"https://encrypted-tbn0.gstatic.com/images?q=tbn:ANd9GcQHN0NC_Jve6ATpGeKyvc1VFiiOh3DUlTD-6WiaiQp6tsyqVj2KzgzEtelyGA&amp;s\"/>,\n",
       " <img alt=\"\" class=\"DS1iW\" src=\"https://encrypted-tbn0.gstatic.com/images?q=tbn:ANd9GcSmSE4s5vhVWJDcxEc-GXQMOcZbedcGIs-LtGeQrGlt7Q1J8emgMa6u9EoKpA&amp;s\"/>]"
      ]
     },
     "execution_count": 38,
     "metadata": {},
     "output_type": "execute_result"
    }
   ],
   "source": [
    "image_tags"
   ]
  },
  {
   "cell_type": "code",
   "execution_count": 39,
   "id": "03b687fe-3528-48e2-8d11-1c9473bd934a",
   "metadata": {},
   "outputs": [
    {
     "data": {
      "text/plain": [
       "<img alt=\"Google\" class=\"kgJEQe\" src=\"/images/branding/searchlogo/1x/googlelogo_desk_heirloom_color_150x55dp.gif\"/>"
      ]
     },
     "execution_count": 39,
     "metadata": {},
     "output_type": "execute_result"
    }
   ],
   "source": [
    "image_tags[0]"
   ]
  },
  {
   "cell_type": "code",
   "execution_count": 40,
   "id": "03e7ab88-5f0d-4a53-8ce5-1aee79131ed9",
   "metadata": {},
   "outputs": [
    {
     "data": {
      "text/plain": [
       "<img alt=\"\" class=\"DS1iW\" src=\"https://encrypted-tbn0.gstatic.com/images?q=tbn:ANd9GcQLecHm1GajbRfth5Xwby04uePGMAFFPOtiMD1TC5bAVv1pHgNayixGLDjfJwc&amp;s\"/>"
      ]
     },
     "execution_count": 40,
     "metadata": {},
     "output_type": "execute_result"
    }
   ],
   "source": [
    "image_tags[1]"
   ]
  },
  {
   "cell_type": "code",
   "execution_count": 41,
   "id": "0b1aaaba-b366-4c3c-b124-801ab600b85c",
   "metadata": {},
   "outputs": [
    {
     "data": {
      "text/plain": [
       "21"
      ]
     },
     "execution_count": 41,
     "metadata": {},
     "output_type": "execute_result"
    }
   ],
   "source": [
    "len(image_tags)"
   ]
  },
  {
   "cell_type": "code",
   "execution_count": 42,
   "id": "8cf7361b-6a33-40ad-a47e-d66e1eddc354",
   "metadata": {},
   "outputs": [],
   "source": [
    "del image_tags[0]"
   ]
  },
  {
   "cell_type": "code",
   "execution_count": 43,
   "id": "c29d2202-79a4-4a35-82e0-1158b94b77a7",
   "metadata": {},
   "outputs": [
    {
     "data": {
      "text/plain": [
       "20"
      ]
     },
     "execution_count": 43,
     "metadata": {},
     "output_type": "execute_result"
    }
   ],
   "source": [
    "len(image_tags)"
   ]
  },
  {
   "cell_type": "code",
   "execution_count": 44,
   "id": "da65949a-47b7-4771-8de4-b502b93aaa01",
   "metadata": {},
   "outputs": [
    {
     "name": "stdout",
     "output_type": "stream",
     "text": [
      "<img alt=\"\" class=\"DS1iW\" src=\"https://encrypted-tbn0.gstatic.com/images?q=tbn:ANd9GcQLecHm1GajbRfth5Xwby04uePGMAFFPOtiMD1TC5bAVv1pHgNayixGLDjfJwc&amp;s\"/>\n",
      "<img alt=\"\" class=\"DS1iW\" src=\"https://encrypted-tbn0.gstatic.com/images?q=tbn:ANd9GcTw7G48FnLNCO2gGjMABD7W_0PPI2v9HQts8jXdtqEomxahKG15PaUEOEo2H3U&amp;s\"/>\n",
      "<img alt=\"\" class=\"DS1iW\" src=\"https://encrypted-tbn0.gstatic.com/images?q=tbn:ANd9GcTbsfkRqasCGFX3zIum505du6AL3EQxagFAUf98oKv9sAALvhPTKgjq4TuN4g&amp;s\"/>\n",
      "<img alt=\"\" class=\"DS1iW\" src=\"https://encrypted-tbn0.gstatic.com/images?q=tbn:ANd9GcRya6-sfVYRN5OXXFh9_kusvohcI3hdQDUtogbqHxuzTK6q-UBCWUkM4fMPLc8&amp;s\"/>\n",
      "<img alt=\"\" class=\"DS1iW\" src=\"https://encrypted-tbn0.gstatic.com/images?q=tbn:ANd9GcSBj7pjo-j4GdIgDSXG22ux8ecftob4Z-n9h1jblfBi54uL_pKE3fhzUdw52Q&amp;s\"/>\n",
      "<img alt=\"\" class=\"DS1iW\" src=\"https://encrypted-tbn0.gstatic.com/images?q=tbn:ANd9GcSDRQcRaN4aGU3AOvVF5oXHWsylRc8gkHPAU_uLH40oBeDXf4yApmwK0XnOcw&amp;s\"/>\n",
      "<img alt=\"\" class=\"DS1iW\" src=\"https://encrypted-tbn0.gstatic.com/images?q=tbn:ANd9GcRWQ9Xsd6D-ceslsP1jQ3D1YJjAumX1jl7zQo5faipALbxyB5OCtKo-hMgxYw&amp;s\"/>\n",
      "<img alt=\"\" class=\"DS1iW\" src=\"https://encrypted-tbn0.gstatic.com/images?q=tbn:ANd9GcSae8BSQxliATNPGCwQrQJKhlqjVZbFrP2D6yEfMMqyPPi7RvL0p2awsH_C7ck&amp;s\"/>\n",
      "<img alt=\"\" class=\"DS1iW\" src=\"https://encrypted-tbn0.gstatic.com/images?q=tbn:ANd9GcR9Kr7EwWPD97YhdtZXbTvOrU06q9YdKb0bCMxJhWB3c8Jr5VwMSNzqMDX4q-w&amp;s\"/>\n",
      "<img alt=\"\" class=\"DS1iW\" src=\"https://encrypted-tbn0.gstatic.com/images?q=tbn:ANd9GcSWCE1E3J56YJtcDA8X4qFtwbfOOlXzfGUZOS18kUkF8EHfl702fEVvEE-29BU&amp;s\"/>\n",
      "<img alt=\"\" class=\"DS1iW\" src=\"https://encrypted-tbn0.gstatic.com/images?q=tbn:ANd9GcQBsObwwEREiWar7kpz-gKiJ5J8-_M8XUlVDxgQ-OL0r6MQuxONQ3M5BZGLuzo&amp;s\"/>\n",
      "<img alt=\"\" class=\"DS1iW\" src=\"https://encrypted-tbn0.gstatic.com/images?q=tbn:ANd9GcRuSom3tU-G3wX6VYdnz51qxFTHuyY8k2c4L9tERQ3PJLHIa1YS_O3FTAj87Q&amp;s\"/>\n",
      "<img alt=\"\" class=\"DS1iW\" src=\"https://encrypted-tbn0.gstatic.com/images?q=tbn:ANd9GcRYVXegBRZ-i3mOEz08-1SAAEXxEGWMqXH73yhKEKopNb1jh-eF91XcAbZPyA&amp;s\"/>\n",
      "<img alt=\"\" class=\"DS1iW\" src=\"https://encrypted-tbn0.gstatic.com/images?q=tbn:ANd9GcTvsVxGdzOxx9q0xe3xuHV-Z80qgnli5wRp1hjrdxueqHjyjs0a4PLp5dB0__I&amp;s\"/>\n",
      "<img alt=\"\" class=\"DS1iW\" src=\"https://encrypted-tbn0.gstatic.com/images?q=tbn:ANd9GcTnMADzSQVBcLVD6aZR5gg8MhNeuD8lDEGq70utWgoF4Ma5l7LVGksYZpYc9AQ&amp;s\"/>\n",
      "<img alt=\"\" class=\"DS1iW\" src=\"https://encrypted-tbn0.gstatic.com/images?q=tbn:ANd9GcSXU8fcW5tz1Kqjk9_UhEnhmT1tuTTJ054-iOetabn9z3Dc8Ki6LBy4hYWpdA&amp;s\"/>\n",
      "<img alt=\"\" class=\"DS1iW\" src=\"https://encrypted-tbn0.gstatic.com/images?q=tbn:ANd9GcTJ9SaV_Fwz49UyzZDH1vWx6tXY-1k0qRporXAeohvEWjvHi4_JzErtgyzv8Q&amp;s\"/>\n",
      "<img alt=\"\" class=\"DS1iW\" src=\"https://encrypted-tbn0.gstatic.com/images?q=tbn:ANd9GcQsocfKOGn_7NelZU7fcuZstPGCK9XTHMHqfCj8RBKh2Hljc5MAWkZF5bu0Fbc&amp;s\"/>\n",
      "<img alt=\"\" class=\"DS1iW\" src=\"https://encrypted-tbn0.gstatic.com/images?q=tbn:ANd9GcQHN0NC_Jve6ATpGeKyvc1VFiiOh3DUlTD-6WiaiQp6tsyqVj2KzgzEtelyGA&amp;s\"/>\n",
      "<img alt=\"\" class=\"DS1iW\" src=\"https://encrypted-tbn0.gstatic.com/images?q=tbn:ANd9GcSmSE4s5vhVWJDcxEc-GXQMOcZbedcGIs-LtGeQrGlt7Q1J8emgMa6u9EoKpA&amp;s\"/>\n"
     ]
    }
   ],
   "source": [
    "for i in image_tags:\n",
    "    print(i)"
   ]
  },
  {
   "cell_type": "code",
   "execution_count": 45,
   "id": "de0b7b56-424d-4dc4-83c9-bc29ae121d81",
   "metadata": {},
   "outputs": [
    {
     "name": "stdout",
     "output_type": "stream",
     "text": [
      "https://encrypted-tbn0.gstatic.com/images?q=tbn:ANd9GcQLecHm1GajbRfth5Xwby04uePGMAFFPOtiMD1TC5bAVv1pHgNayixGLDjfJwc&s\n",
      "https://encrypted-tbn0.gstatic.com/images?q=tbn:ANd9GcTw7G48FnLNCO2gGjMABD7W_0PPI2v9HQts8jXdtqEomxahKG15PaUEOEo2H3U&s\n",
      "https://encrypted-tbn0.gstatic.com/images?q=tbn:ANd9GcTbsfkRqasCGFX3zIum505du6AL3EQxagFAUf98oKv9sAALvhPTKgjq4TuN4g&s\n",
      "https://encrypted-tbn0.gstatic.com/images?q=tbn:ANd9GcRya6-sfVYRN5OXXFh9_kusvohcI3hdQDUtogbqHxuzTK6q-UBCWUkM4fMPLc8&s\n",
      "https://encrypted-tbn0.gstatic.com/images?q=tbn:ANd9GcSBj7pjo-j4GdIgDSXG22ux8ecftob4Z-n9h1jblfBi54uL_pKE3fhzUdw52Q&s\n",
      "https://encrypted-tbn0.gstatic.com/images?q=tbn:ANd9GcSDRQcRaN4aGU3AOvVF5oXHWsylRc8gkHPAU_uLH40oBeDXf4yApmwK0XnOcw&s\n",
      "https://encrypted-tbn0.gstatic.com/images?q=tbn:ANd9GcRWQ9Xsd6D-ceslsP1jQ3D1YJjAumX1jl7zQo5faipALbxyB5OCtKo-hMgxYw&s\n",
      "https://encrypted-tbn0.gstatic.com/images?q=tbn:ANd9GcSae8BSQxliATNPGCwQrQJKhlqjVZbFrP2D6yEfMMqyPPi7RvL0p2awsH_C7ck&s\n",
      "https://encrypted-tbn0.gstatic.com/images?q=tbn:ANd9GcR9Kr7EwWPD97YhdtZXbTvOrU06q9YdKb0bCMxJhWB3c8Jr5VwMSNzqMDX4q-w&s\n",
      "https://encrypted-tbn0.gstatic.com/images?q=tbn:ANd9GcSWCE1E3J56YJtcDA8X4qFtwbfOOlXzfGUZOS18kUkF8EHfl702fEVvEE-29BU&s\n",
      "https://encrypted-tbn0.gstatic.com/images?q=tbn:ANd9GcQBsObwwEREiWar7kpz-gKiJ5J8-_M8XUlVDxgQ-OL0r6MQuxONQ3M5BZGLuzo&s\n",
      "https://encrypted-tbn0.gstatic.com/images?q=tbn:ANd9GcRuSom3tU-G3wX6VYdnz51qxFTHuyY8k2c4L9tERQ3PJLHIa1YS_O3FTAj87Q&s\n",
      "https://encrypted-tbn0.gstatic.com/images?q=tbn:ANd9GcRYVXegBRZ-i3mOEz08-1SAAEXxEGWMqXH73yhKEKopNb1jh-eF91XcAbZPyA&s\n",
      "https://encrypted-tbn0.gstatic.com/images?q=tbn:ANd9GcTvsVxGdzOxx9q0xe3xuHV-Z80qgnli5wRp1hjrdxueqHjyjs0a4PLp5dB0__I&s\n",
      "https://encrypted-tbn0.gstatic.com/images?q=tbn:ANd9GcTnMADzSQVBcLVD6aZR5gg8MhNeuD8lDEGq70utWgoF4Ma5l7LVGksYZpYc9AQ&s\n",
      "https://encrypted-tbn0.gstatic.com/images?q=tbn:ANd9GcSXU8fcW5tz1Kqjk9_UhEnhmT1tuTTJ054-iOetabn9z3Dc8Ki6LBy4hYWpdA&s\n",
      "https://encrypted-tbn0.gstatic.com/images?q=tbn:ANd9GcTJ9SaV_Fwz49UyzZDH1vWx6tXY-1k0qRporXAeohvEWjvHi4_JzErtgyzv8Q&s\n",
      "https://encrypted-tbn0.gstatic.com/images?q=tbn:ANd9GcQsocfKOGn_7NelZU7fcuZstPGCK9XTHMHqfCj8RBKh2Hljc5MAWkZF5bu0Fbc&s\n",
      "https://encrypted-tbn0.gstatic.com/images?q=tbn:ANd9GcQHN0NC_Jve6ATpGeKyvc1VFiiOh3DUlTD-6WiaiQp6tsyqVj2KzgzEtelyGA&s\n",
      "https://encrypted-tbn0.gstatic.com/images?q=tbn:ANd9GcSmSE4s5vhVWJDcxEc-GXQMOcZbedcGIs-LtGeQrGlt7Q1J8emgMa6u9EoKpA&s\n"
     ]
    }
   ],
   "source": [
    "for i in image_tags:\n",
    "    print(i['src'])"
   ]
  },
  {
   "cell_type": "code",
   "execution_count": 46,
   "id": "7144c067-ea54-4ee0-bc9f-181ce5457f5a",
   "metadata": {},
   "outputs": [],
   "source": [
    "for i in image_tags:\n",
    "    image_url=i['src']\n",
    "    requests.get(image_url)"
   ]
  },
  {
   "cell_type": "code",
   "execution_count": 47,
   "id": "064f1afb-8c3a-4799-8338-dc67b99e735f",
   "metadata": {},
   "outputs": [
    {
     "data": {
      "text/plain": [
       "<Response [200]>"
      ]
     },
     "execution_count": 47,
     "metadata": {},
     "output_type": "execute_result"
    }
   ],
   "source": [
    "requests.get(\"https://encrypted-tbn0.gstatic.com/images?q=tbn:ANd9GcSMYNRVFWT78z1HfCjjsXyWHH40VRIwjNiYar3jQYHUhnaCQJZ6GSxCQ6cYto8&s\")"
   ]
  },
  {
   "cell_type": "code",
   "execution_count": 48,
   "id": "020922b2-fc02-4464-bc3a-f823d18f9c1a",
   "metadata": {},
   "outputs": [
    {
     "data": {
      "text/plain": [
       "b'\\xff\\xd8\\xff\\xe0\\x00\\x10JFIF\\x00\\x01\\x01\\x00\\x00\\x01\\x00\\x01\\x00\\x00\\xff\\xdb\\x00\\x84\\x00\\t\\x06\\x07\\x08\\x07\\x06\\t\\x08\\x07\\x08\\n\\n\\t\\x0b\\r\\x16\\x0f\\r\\x0c\\x0c\\r\\x1b\\x14\\x15\\x10\\x16 \\x1d\"\" \\x1d\\x1f\\x1f$(4,$&1\\'\\x1f\\x1f-=-157:::#+?D?8C49:7\\x01\\n\\n\\n\\r\\x0c\\r\\x1a\\x0f\\x0f\\x1a7%\\x1f%77777777777777777777777777777777777777777777777777\\xff\\xc0\\x00\\x11\\x08\\x00d\\x00\\xa2\\x03\\x01\"\\x00\\x02\\x11\\x01\\x03\\x11\\x01\\xff\\xc4\\x00\\x1c\\x00\\x00\\x01\\x05\\x01\\x01\\x01\\x00\\x00\\x00\\x00\\x00\\x00\\x00\\x00\\x00\\x00\\x06\\x00\\x03\\x04\\x05\\x07\\x02\\x01\\x08\\xff\\xc4\\x00=\\x10\\x00\\x02\\x01\\x03\\x03\\x02\\x03\\x06\\x02\\x07\\x06\\x07\\x00\\x00\\x00\\x00\\x01\\x02\\x03\\x00\\x04\\x11\\x05\\x12!\\x061\\x13Aa\\x07\\x14\"Qq\\x812\\x91\\x154BR\\xa1\\xb1\\xc1#3br\\xf0\\xf1\\x16C\\x82\\x92\\xb2\\xd1\\xe1\\xff\\xc4\\x00\\x19\\x01\\x00\\x03\\x01\\x01\\x01\\x00\\x00\\x00\\x00\\x00\\x00\\x00\\x00\\x00\\x00\\x00\\x01\\x02\\x03\\x00\\x04\\x05\\xff\\xc4\\x00!\\x11\\x00\\x02\\x02\\x02\\x03\\x00\\x03\\x01\\x01\\x00\\x00\\x00\\x00\\x00\\x00\\x00\\x00\\x01\\x02\\x11\\x03!\\x121A\\x13\"2Q\\x04\\xff\\xda\\x00\\x0c\\x03\\x01\\x00\\x02\\x11\\x03\\x11\\x00?\\x00\\xa9\\x1a\\x1c\\x1b\\x94\\xa4\\xfc\\xcb\\xcb\\x9c\\xd4\\xb84\\x08\\xa5*^\\xf4\\x80\\xb8\\n7VZ\\x9a\\xd6\\xa0\\xa0b\\xe5\\xf8\\x18\\xafF\\xb3\\xa8\\x06\\x07\\xde^\\xa9\\xd9\\xb8\\xb3N\\xba\\xe8\\xeb\\x19a!\\xee\\x04\\x83\\xb9\\xc9\\xaa\\xa9:\\x16\\xcb\\xc5\\xca\\x95\\xdb\\xbb\\x00g\\xbd\\x04\\x8d\\x7fTU\\xda.\\xdf\\x15\\xd7\\xfcI\\xaa\\xe7\\xf5\\x8f\\xb6)\\\\@\\xe3 \\xe1z\\x06\\xc7\\xc2\\x04\\xb0\\xdd\\x8c\\x9ej\\x16\\xa9\\xd1\\x9a}\\xa4%\\xb7\\x80G\\xad\\x0b\\x0e\\xa8\\xd5\\xc0\\xfdd\\xf3\\xdf\\x8ab\\xef\\\\\\xd4.\\x86&\\x9b\"\\x96\\x85\\xa9\\x10\\xae\\x91b\\xb8\\x9249\\n\\xd8\\xcf\\xce\\xac4t\\x12)\\x1ey\\xc5U\\x13\\x93\\x93\\xc9\\xa7\\xadn\\x1e\\xdaM\\xe9\\xdb\\xccVC\\x9a\\xa7@\\xce\\xa2a\\r\\xc1\\x00)\\xc0\\xcd_u\\xa4\\xd0\\xc1g\\xbe\\'\\x19\\xc7\\x95f\\xb6:\\xdd\\x9b(\\xf1\\x1f\\xc1\\x7f\\x988\\xa9WZ\\xb5\\xb4\\xf1\\xf8+teb;\\x13\\x9a2Z&\\xd6\\xca\\x97h\\x98\\x111bN\\\\\\x85\\xfa\\xd4X\\xae,\\xad_1\\xc0w\\xa9\\xc8c\\xce+E\\xe8\\x7fg\\xf6\\xfa\\x9b>\\xa5\\xaa\\x81*\\x1f\\xee\\xa0#\\xe1\\xff\\x003|\\xfe\\x94A{\\xd0\\xfa1fSh\\xa8A\\xc6S\\x8a\\x8c\\xa5L\\xeb\\xc7\\x8e\\xcc\\xc2\\x0e\\xac\\x96(\\xb6\\x19\\x9c.1\\x8e\\xf4E\\xd3\\xd77Z\\xad\\xb6\\xeb+\\xc2\\xad\\x1b|JOl\\xf6\\xa9:\\xaf\\xb3{\\x06\\x0e\\xd6\\xd2\\xcd\\x19\\xef\\xe4E\\x04\\x1f\\x7f\\xe9-^H\\xe3}\\xea\\xe9\\xc3\\x0e\\x03\\x8f\\xfd\\x8ah\\xca\\xd8\\xb915\\xb3Im\\x1bX\\xb8R\\xc6\\xe9yQ\\xc7\\xca\\x87un\\x86\\xb8\\xbaa$\\x93\\x1d\\xe0\\x1f\\xbdR\\']\\xea\\xca?\\x10\\xf2\\xfd\\xaf\\x95tz\\xfbSc\\xf1\\xa2\\x9f\\x9f\\xc5\\xde\\xaa\\xe2C\\x8c\\x90\\xe2t\\x1c\\xfb\\xb6<\\xac\\x0f\\xefb\\x9d\\x93\\xd9\\xf4\\xa8T\\x19\\x98g\\x8c\\xd4C\\xd7w\\xfby\\x89r;|U\\xef\\xfc}\\x7f\\x8d\\xa6!\\x83\\xc9\\xf8\\xbc\\xe8P>\\xc4\\x1d_\\xa6%\\xd3\\x91\\xdf\\xc5\\x0c\\xab\\xdf4;WZ\\xa7P\\\\j\\x0b*\\xba\\xedW\\x00c=\\xaa\\x96\\x80\\xca\\xfd,\\xa2\\x91<4\\xe7\\xf6E{U\\xb9?:\\xf6\\x8d\\x8dg\\x80\\xe2\\xbd\\xcdr*U\\x95\\xa4\\x97rmN\\x00\\xeeh\\xa3\"?4\\xa8\\xa6-\\x06\\xce$\\x06\\xeeM\\xa7\\xe4[\\x04W\\x17\\x1d=\\x03\\xc6^\\xd2Rq\\xe5\\x9c\\xd1qfr@\\xc5*z\\xe6\\xdd\\xed\\xe4) \\xc1\\xfet\\xe5\\xae\\x9fsv\\xbb\\xad\\xe2/\\xf4\\xa4\\xa0\\x11iU\\xba\\xf4\\xd6\\xae\\xc7\\x0bh\\xc7\\x8c\\xd7\\r\\xd3\\xfa\\x9a\\xf7\\xb4~\\xf8\\xe3\\xce\\xb0-\\x15u?C\\x81\\xa6\\xd4\\xa1US\\x82\\xc0\\x13\\x8e\\x05yq\\xa4_\\xdbs5\\xb3\\xa8\\xc6s\\x8a+\\xf6s\\xba[{\\xcb]\\x85\\xc3\\xcf\\x16F\\xee\\x17\\xf1\\x12\\xd8\\xf9\\x8d\\x9f\\xc4\\xd0\\x93\\xa4S\\x1cyJ\\x8dwGh\\xb4\\xab\\x0f\\x02k\\x95\\x8a\\x14\\xe5\\xdd\\xce\\xd1\\x9a\\xf1\\xb5}2\\xe7\\x9bK\\xd8\\xe5\\x00\\xe0\\x95l\\xe0\\xd4k\\xeb\\x14\\xd4lU\\xd2m\\x92\\xa6v\\xfc\\x01\\xb9\\xf9\\xe1\\xb23\\xeasC\\x9a?L]\\xfe\\x94I\\xae\\x1c\\x9d\\x80\\xf8\\xad\\xe1\\xa2\\x16\\xe0\\xf7\\xdb\\xf6\\xc6j)\\xda:\\xe3\\x15a\\x1d\\xec\\xca\\xd0H\\xcbp\\x83\\x8eNEf]w\\x84\\x8a\\xdaB2\\xc2B\\t\\xfbv\\xfe\\x15e\\xaa\\xe9W\\x13\\xdf\\xbb\\xecI\\xe2.|8\\xe4y\\x06\\xdc|\\xb1\\xc19\\x1euK\\xd5pI\\x0e\\x93\\x14S\\xe4\\x15;\\xcf\\x9e\\xde0\\x07\\xe6E\\x05\\xfaLl\\x8b\\xea\\xd0\\x19J\\xa6Yi\\xd3]\\x9c\\xa8\\xc2\\xf9q\\xc9\\xabA\\xd3\\x122dN\\x03|\\x8dvY\\xc4\\xda\\x07MsV\\x1a\\x86\\x95udO\\x8a\\xb9Q\\xe6\\xb5\\x02\\x90S\\xcaT\\xe7\\x81/\\x1f\\xd9\\xb1\\xdc20;\\x8aF\\t\\x80\\xc9\\x89\\xf1\\xfeS@\\x03t\\xab\\xad\\x87\\xf7[\\xfe\\xd3J\\xb1\\x8e<\\xe8\\xa7\\xa7\\x95#\\x16\\xf9\\x1c1\\x05\\x8d\\x0b\\x93\\x92O\\xce\\x89:~T\\x964\\x8f\\x8d\\xc0m\\xa7\\x87`\\x97F\\xa1e\\xd3\\xbav\\xb3\\xb1\\xd9\\x03\\x00;b\\x9b\\xbd\\xd1,t\\x8bY\\xdc\\r\\xa5G\\xc3\\xc5y\\xd1\\xba\\xc2i\\xf1\\x98\\xee\\xb23\\xd8\\xd3\\x1dk\\xa9\\x0b\\xd6X\\xed\\x9b\\xe1\\'-\\xf4\\xa3\\xb2~\\xd1\\x9eu,(a\\xf1Tc\\x04\\x11\\xf7\\xabOg\\x17p\\xa5\\xc7\\x85p\\x06\\xd4l\\xf2;\\xe6\\xaaz\\x8at\\x10\\xac\\nF\\xe2rG\\xa0\\xab\\x0e\\x85\\x96\\xcd$\\x02\\xe7\\x82d\\xdb\\x9fJ5\\xb2\\x95\\xf45\\xe7\\xb9\\xb0\\x8a\\x08\\xddJy\\xf9|\\xe9\\xd8\\x7fG\\xcb\\xb1\\xbf\\xb2,\\xabP\\x8d\\xbe\\x994\\n\\x04\\xa3\\x1f\\xca\\x99\\x82\\xce\\xc4\\xc9\\xcd\\xc6\\xd2x\\xefKD\\x13;\\xea(\\xb4\\xe9\\xace\\x18\\x8f*\\xb8\\x18\\xac\\xdf\\xa1o\\x13H\\xea\\xbb\\xcd=\\xa2.\\xb7cj2\\xf6B\\xa7vO\\xa63Z|\\x9aF\\x9a\\xcb\\xfd\\xf88\\xcfsU\\x11h\\xf6\\x93\\xcbqs\\xa5[\\xc7+Ay\\xeer\\xdcy\\xc6LL\\xe5\\x87\\xdc\\xa2\\xfd\\xcdNq\\xd5\\x95\\xc2\\xda\\x98\\xec\\xd7\\x17P\\x89\\r\\xb2\\x16BpH\\x1d\\xa9\\xb3>\\xad\\xa5\\xda{\\xcd\\x9c\\x10\\xcb$\\xa3\\x0e\\x8e\\xc40\\xef\\xd8v\\xf3\\xf3\\xa8\\x96\\xd7\\xb7\\x8d\\x03Z\\xc4\\xa7/\\x94\\x90\\x17\\x01\\xa3 \\xfa\\xd5~\\xb7\\xa7\\xcff\\xd0\\xec\\x8e\\xeefb>3x\\xe8A#\\xd0\\xe2\\xb9c\\xa3\\xd6R\\xbd\\x12\\xaduym`&\\xf4$~1f*\\xa7!O\\xca\\x84\\xba\\xae\\xef\\xde\\xcd\\xbd\\xb8\\xc9\\xf7\\x992[\\xfc\\x0b\\xe5\\x8f\\xa9\\xfe\\x15l\\xc8\\xd6(\\xcdx\\xf2\\xca\\xa5N#\\x94gi\\xf2;\\x8f|P=\\xc5\\xfa\\xcd\\xae{\\xc0#\\xc3\\x04\"\\xfa\\x0f\\xf7\\xcdS\\x12\\xb9\\x13\\xff\\x00FJ\\x85\\x7fC>\\x98\\xb1\\x82\\xe2f\\x86_\\x83#\\x8a\\xb8\\x93\\xa1\\x99\\xb7\\\\\\x0b\\x89\\x02\\x8f\\xc2\\x03P\\xf5\\x94\\xcf\\x0c\\x91O\\x1f`@8\\xf2\\xadcN\\xd4-n4\\x90<E\\xce\\xdey\\xae\\xc6yv\\xea\\xcc\\xe3[\\xd3\\x12\\xca\\xd64\\x9eM\\xe5\\xce\\x06y5\\x9dj\\x96\\xbe\\xe9x\\xd1\\xa8\\xc2\\xf7Z\\xd0z\\xa6\\xe1\\xae\\xf5M\\xa1\\xbe\\x08\\x8f>\\x94\\x0f\\xd42,\\x9a\\x83\\x05\\xe7j\\x80iZ\\xf4xY\\xa0\\xf4\\r\\xb5\\x86\\xa5a\\x14\\x93\\xc6\\x9b\\xd16\\x9c\\xfc\\xe8\\xa0i\\x1abI\\x15\\xabA\\x1edS\\xe5A\\x9d\\rgm,0\\x08\\xe6\\xf0\\xd9\\xc6\\xe23\\x8a$\\xbb\\xd3fYV\\xedn\\t`v\\x0e{\\n-\\t?\\xd18h:R\\x80\\xa2(\\xb8\\xe3\\xb5*\\xa9m&\\xe4\\xb1>\\xfa\\xfd\\xff\\x00~\\x95-\\x0bf-N\\xdb\\xcf%\\xbb\\xef\\x88\\xe0\\xd3U\\xed)p\\x9a\\xcf\\xab\\x1a%\\x0b<\\x1b\\xb1\\xe6\\xa6\\x95\\xff\\x00T=\\xc6DQ\\x91\\xc7\\xed\\x1a\\x19\\xae\\x85?+\\x02\\x8a\\xb1\\xd9\\xa4\\x92y\\x0b\\xc8\\xc5\\x98\\xf9\\xd7\\x88\\xef\\x19\\xca1S\\xe8k\\xc5\\xa7#\\x85\\xe5$ \\xed\\xdc\\xe6\\xa9\\xc1xW\\xc1\\xf5\\xd6u$\\xfc7\\x92\\x81\\xdb\\xbdv\\x9a\\xc6\\xab!\\xda\\x97R\\x93\\xe8iE`\\x9d\\xdd\\xb7z\\n\\x90\\xc1bO\\x84\\x01C\\x83\\xf4\\x8b\\xe2;\\x06\\xa7\\xa9!_\\x16\\xfa\\\\\\xf9\\x00kD\\xf6/\\xac,z\\xc5\\xf6\\x87v\\xd9\\x8bQC,y=\\xe5^\\xff\\x00r\\xbc\\xff\\x00\\xd1Y;L\\xcd \\xcf\\x18\\xab\\x1b\\x1dBk\\x1b\\x8b{\\xfbF\\xdbqm \\x922>c\\xcb\\xfaQI5@\\xaa4\\xefh\\x9a-\\xce\\x99w\\xe3 \\xfcd\\xec|p\\xe3\\xfa0\\xff\\x00j\\x08:\\x96\\xa0\\xcc\\t\\xb8r\\xfd\\x82\\xbeN\\r}\\x03\\x0c\\xfa_R\\xf4\\xacW\\x97\\xa1\\x1e\\xc2\\xe2\\x15\\x95\\x8b\\x9cl\\xfb\\xf9\\x10x\\xfa\\xd6a7H4WFm:Ox\\x81\\x9f\\xfb16\\x03\\xaa\\x9e\\xc5\\xb1\\xc7\\xfa\\xed\\\\\\xb3\\x83]#\\xaf\\x16D\\xfbt\\xc1Mb\\xce\\xf1\\xfar\\xf6\\xfe\\xf2yX\\xa7\\x84\\x8b\\xf1`\\x02\\xcd\\xdb\\xd7\\x8d\\xdf\\x95\\x0322\\xfe Ej\\xbda5\\xb9\\xe8\\xe4\\xd14\\xf1$\\xb7\\x83SA#m\\xc7\\x8e\\xc40\\x1bG\\xc8\\x11\\xb4\\x03\\xf2\\xe7\\x9c\\xd0F\\xb5\\xa2_ho\\x12_\\x08\\x99d\\x1c4O\\xbds\\xe6\\xa4\\xfc\\xfd*\\xb1\\x8a\\xaa}\\x92\\x9bm\\xb6\\xba\\x1a\\xd1\\xf5\\xe6\\xb2\\xc2N\\xa5\\xe3\\xfe\\x94Q\\x07Ri\\xf8-\\x14\\xe5\\x18\\x8eT\\xe4PCE\\x13\\xf9l>\\x94\\xd3[\\xc8\\xbd\\xb0\\xc3\\xcb\\x14\\xfbDZL#\\xd4\\xf5\\xe8\\x98\\xb7\\x81\\x86r{\\xf9}\\xcd\\r;\\x17b\\xccr\\xc7\\xb9\\xaf9\\xf3\\xa5\\x8a\\x16V)%\\xa2m\\x86\\xafw\\xa7\\xba4\\x0f\\xf8;\\n\\xb3^\\xb4\\xd5\\x16-\\x85\\xc1\\xf8\\xb3\\xcd\\x0f\\x11\\\\\\x1a\\r\\xb1e\\x14\\xc2c\\xd6W\\xe4\\xe4\\x81\\xf9\\xd2\\xa1\\x9aT-\\x8b\\xc5\\x07O\\xec\\xe2\\xf0\\x05+)<\\xf3\\xc0\\xedM\\x1fgz\\x8f\\x80\\xf2\\x06\\xe4\\x1e\\x06<\\xa8\\xf2\\xdf\\xa8$\\x8c\\xdc\\xf8\\xb6\\xed\\xf8\\xf2\\xbfJ\\x9f\\'QB\\xdbU\"l2\\xfc^\\x94(\\x9f&a\\x9a\\xb6\\x99>\\x97s\\xe0\\\\\\x0c\\x1f/Z\\x84(\\xef\\xad\\xed\\xe6\\xd5Y.-\\xed\\x9c\\xbe\\xe3\\xc6<\\xa8C\\xf4]\\xf1,=\\xd9\\xf2;\\xf1J\\x8aE\\xda#)\\xa9\\xf6\\xc1\\x84;\\x97\\xe7\\x93\\\\\\r\\'P\\x00\\x13i\\'=\\xb8\\xae\\xf6^[Hb\\x95\\x04l\\x00\\xf8\\\\yU\\xe1=P\\xd2v\\xa8\\xe8\\xca\\xc8r{\\x7f:\\xed\\xe5Ic!Xd\\x8e\\xd5\\x16Y_\\xb4\\x88\\x01\\xf4\\xa8\\xacJ8u<\\xd39\\x08\\x90\\xees\\x91O\\x87\\xc0\\xc0\\xe0Ti\\x8e\\xc9r+\\xb2r\\x87\\x04}h&\\x16m>\\xc4u5\\xbb\\xd3\\xee\\xb4;\\x992-\\xdf\\xde \\x8c\\x9e\\n1\\xc3q\\xe8\\xdf\\xf9V\\xa0\\xb0\\xd9\\xc6v\\xbe\\xd5 g\\x07\\xb0\\xf5\\xacC\\xd9/O\\xeb\\x0b\\xa9\\xdbkq\\xee\\xb5\\xb3\\x8dYY\\xa6_\\xd6\\x15\\x87e\\x1f.\\xc7w\\xa0\\xefZ\\xfc\\xd3\\xa8b\\xc7,\\xe4c\\xe1\\xeeG=\\x85Jy\\x12\\x1e8\\xdb(z\\xa6\\xd2\\xdd\\xb5(\\xda\\xc2\\x08\\x9e\\xf4!X\\xa4v\\xf8b\\x07\\x96s\\xe5\\xfbG\\x9cy\\xd6{\\xab\\\\YMeu\\xa2El/&\\x11\\xb1[\\xa6c\\x97\\x98\\x02A\\x1c\\xe3\\xbd\\x1dk\\xf6\\xd7\\xb7\\xb1\\xb4Vp\\xa5\\xa4r\\xe0M<\\x8f\\xce>\\xdf\\xca\\x85\\xb53\\xd3\\xdat\\x91D\\xf7\\x1e\\xf7$Hc\\x85#$,E\\x8f.\\xcc1\\x96\\xff\\x00X\\xaef\\xdb\\x95\\x9d\\xb0QQ\\xe2d\\xd9\\xc74\\xee\\xe2W\\x1eU}\\xd5\\xbd<t\\xa9\\xfd\\xe6\\xddwX\\\\|Q\\xb0\\xe7\\xc3\\'\\xf6I\\xfe_\\xfc\\xa1\\xe2\\xfbb<WtZj\\xd1\\xc0\\xe2\\xd3\\xa63+\\x06r~u\\xe5q\\x83\\xdc\\xd7c\\xb0\\xe0\\xf3J\\x98\\xf1\\x15p\\xc2\\xbb\\xaeq\\x93\\x81BH-\\x1cb\\xbd\\xa2\\x18\\xf4\\xe8\\x04k\\x95\\x19\\xc0\\xcd*Z\\x149n\\xad\\xd2^E`\\xd1\\xe0\\xa7l\\xf9\\xd3\\xf6\\xfdi\\xa2.\\x03*f\\xb1\\xca\\xf6\\xb5\\x92\\xf8\\xcd\\xad\\xfa\\xb7B\\x95\\x01\\x061\\xd8\\x11\\x91L~\\x9a\\xd0\\x99\\xb2\\x0c[\\x86|\\xfbV7J\\xb6\\x8d\\xf1\\x9b\\x87\\xe9\\xfd\\t\\x90\\x1d\\xd1g\\x8f>\\xf5\\x9a\\xf5\\x1d\\xe4:\\x8e\\xbbys\\x06<\\x16p#\\xf4\\x00\\x01\\xfd3\\xf7\\xa1\\xa1V\\x91`G\\xb8\\x8c\\nx\\x1b\\x8d\\r\\xcc\\xa4\\x8c\\xb0\\x15\\nu\\xda8<T\\xc7\\x9e\\x1c\\x9f3\\xe9Q\\xd2&\\x9c\\xa8\\x03\\nO\\xe2=\\xa9\\xa5\\xb42=\\x92&\\x92`\\xaa\\xa4\\xb1\\xf2\\x15\\x7f\\xd23\\xda\\xe8}G\\xa6\\xdfj\\x08\\x93\\xc3\\x05\\xc2\\xb4\\xa8\\xe0\\x15\\x0b\\xd8\\x9f\\xb6w}EV\\x89\\x16\\'\\x97h\\xc6\\xde\\xe7\\xe6i\\x83\\'\\x89\\xcex>f\\xb7\\x10Y\\xf4\\xc6\\xb9v\\xbay\\xe0\\xee\\x86E\\xdd\\x1b/\\x98\\xfa\\xd0\\xe4\\xba\\xa2\\xaa\\xbb\\xcd\"GnG\\xfc\\x8c\\x96\\'\\xd4\\xd0\\\\]I6\\xad\\xec\\xe9t\\xe8\\xa6\\xc6\\xa3\\xa5\\xbch\\x18\\x9d\\xb9\\x87;C\\x12|\\x808\\'\\xd0S\\xdd\\x15\\xa4\\x1dgN73\\xea\\x97l\\xb1\\xcf\\xe1\\xc9\\x1c\\x05p\\xcb\\x9cn\\x04\\x8e\\xdc\\xf7\\xe2\\xb9\\xa5\\x89\\xf2\\xd1\\xd3\\x1c\\xa9Ge\\x96\\xb5d5\\xf4]\\xbd@,c\\x03\\x0bo.[?Q\\x90j\\x99zR\\x1d<<\\xda\\xde\\xb3b\\xf6`\\x00\\x8dn\\xe7s\\x1f.1\\xc7\\x96{\\xf6\\xa2\\x1e\\xa9\\xe9\\xcd3M\\xd0o\\xe0\\xb1\\xb2\\x85\\\\\\xc0\\xe4\\xce\\xeb\\xbaN#,\\x06\\xe3\\xcfp?:\\xc4\\xe1\\x94\\xc6\\xca_sG\\xfbK\\xe9\\xe7\\x8a\\xcf\\x1d*2\\xce\\x9b\\xb4l\\xd6\\xde\\xe7sh\\xf6\\xc6!5\\xa3\\x80\\x9b[\\x9d\\xf5\\x9du\\x7fN\\xbe\\x8a\\xf1\\xc9\\ti,&r\\xa8\\xe4s\\x1b\\x81\\x9d\\x8d\\xeb\\x82\\x08\\xf9\\xfd\\x8dX\\xdb\\xae\\xa3g{\\x0cp\\\\\\x9f\\x00\\xc7\\xbe\\xdefN\\x1c\\x1e\\xc6\\x8b:\\x91\\xc4\\xde\\xc9\\xae\\xaen\\x94x\\xd7\\x17Q\\xc8\\xb9\\xfd\\xe0\\xea\\x9c}\\x94\\xfetai\\xd0r\\xb5(\\xf2\\x01z\\x12\\xde\\xd6\\xe3Xxo\\x98\\x18L%\\xb61\\xfcL\\x08\\xc7\\xf0\\xcd\\x1bM\\xa5\\xe8\\xc8\\xc2B\\xa9\\xc8\\xedYRL\\xd18\\x92\\'*\\xe3\\xb1\\x14\\xfd\\x9d\\xd5\\xf5\\xd5\\xe4V\\xe9p|I\\x9dcR\\xed\\x80\\x0b\\x1cs\\xe9\\xcdQ\\x9c\\xb4\\xcb\\xbe\\xa6\\x86\\xc2\\x08\\x9d\\xed\\xf0Y\\x9b\\x03\\x1f*\\x17\\r\\x82\\x0f\\xc8\\xd1M\\xc7F\\xea\\xc3\"{\\xcb\"\\x8a\\x0bx\\x82V+\\xf9\\x85\\xf3\\xf2\\xfa\\x1a\\x89\\xa9\\xf4\\x86\\xa1\\xa6\\xe9\\xd2\\xdfM=\\xa3\\xc7\\x17\\xe2X\\xe4%\\xbf\\x18N\\xdb~g\\xf2\\xa1eS\\xd1\\xe2\\xde!Pw\\x0e\\xd5\\xed\\x0f\\xe6\\xbd\\xa6\\xd8i\\x1cW\\xb4\\xa9T\\xc4\\x15*T\\xa8\\x98\\xea>]G\\xadO\\x95C\\xc6\\xdb\\x89\\xc2\\x0e\\x07\\x95*T\\xf0\\xe9\\x8a\\xcea\\x867L\\xb2\\x8f\\xa5Hf>\\xf0\\x17\\xc8p)R\\xaa\\x01\\x95\\xe6F\\xf0\\xdb\\xfcL3\\\\\\x12O9\\xaf)RHc\\xbd\\xec\"`\\x0e\\x03\\x0c6<\\xc6A\\xc1\\xfb\\x81\\xf9Q\\xd7\\xb2\\xedJ\\xe6\\xc8^\\x08\\x98\\x15\\n\\xc4+\\x0c\\x80x9\\xc5*T=24\\xfd}\\x16\\xea\\xc21(\\xe2H\\x81p8\\xcf\\x18\\xfe\\xb5\\xf3sr~\\x9cR\\xa5Bb\\xc7\\xb0\\x8fC\\xd6\\xafc\\x8a\\xda\\xd8:\\x98\\xe2m\\xab\\x91\\x9c\\xa9\\xe7\\x07\\xc8\\x8c\\x93\\xf9\\xd1\\'\\xb4+\\xe9\\x86\\x81cb\\x9bR\\xdc2|*1\\x9f\\x84\\x9f\\xe7^R\\xa6_\\x96\\x16\\xf6\\x8c\\xf9O\\x91\\xed^7zT\\xa9d1\\xe6\\x06{\\n\\xeb\\x00g\\x81^R\\xa1\\x10\\x8a\\x95*UA\\x8f\\xff\\xd9'"
      ]
     },
     "execution_count": 48,
     "metadata": {},
     "output_type": "execute_result"
    }
   ],
   "source": [
    "requests.get(\"https://encrypted-tbn0.gstatic.com/images?q=tbn:ANd9GcSMYNRVFWT78z1HfCjjsXyWHH40VRIwjNiYar3jQYHUhnaCQJZ6GSxCQ6cYto8&s\").content"
   ]
  },
  {
   "cell_type": "code",
   "execution_count": 49,
   "id": "b704bcc6-33c1-437d-b80f-48e10c61169f",
   "metadata": {},
   "outputs": [],
   "source": [
    "for i in image_tags:\n",
    "    image_url=i['src']\n",
    "    image_data=requests.get(image_url).content\n",
    "    with open(os.path.join(save_dir,f\"{query}_{image_tags.index(i)}.jpg\"),\"wb\") as f:\n",
    "        f.write(image_data)"
   ]
  },
  {
   "cell_type": "code",
   "execution_count": 50,
   "id": "e9abeb19-8e7b-4259-b76f-d7de6f45497e",
   "metadata": {},
   "outputs": [
    {
     "data": {
      "text/plain": [
       "bytes"
      ]
     },
     "execution_count": 50,
     "metadata": {},
     "output_type": "execute_result"
    }
   ],
   "source": [
    "type(image_data)"
   ]
  },
  {
   "cell_type": "code",
   "execution_count": null,
   "id": "4bfeb12c-8836-4b41-9b0a-37849277c591",
   "metadata": {},
   "outputs": [],
   "source": []
  }
 ],
 "metadata": {
  "kernelspec": {
   "display_name": "Python 3 (ipykernel)",
   "language": "python",
   "name": "python3"
  },
  "language_info": {
   "codemirror_mode": {
    "name": "ipython",
    "version": 3
   },
   "file_extension": ".py",
   "mimetype": "text/x-python",
   "name": "python",
   "nbconvert_exporter": "python",
   "pygments_lexer": "ipython3",
   "version": "3.9.0"
  }
 },
 "nbformat": 4,
 "nbformat_minor": 5
}
